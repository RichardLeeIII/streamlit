{
 "cells": [
  {
   "cell_type": "markdown",
   "id": "f8a3fdeb",
   "metadata": {},
   "source": [
    "Data source: https://www.kaggle.com/datasets/rupeshraundal/marketcheck-automotive-data-us-canada?select=ca-dealers-used.csv"
   ]
  },
  {
   "cell_type": "code",
   "execution_count": 1,
   "id": "777908eb",
   "metadata": {},
   "outputs": [],
   "source": [
    "import pandas as pd\n",
    "import numpy as np\n",
    "import matplotlib.pyplot as plt"
   ]
  },
  {
   "cell_type": "code",
   "execution_count": 2,
   "id": "340436a5",
   "metadata": {},
   "outputs": [
    {
     "name": "stderr",
     "output_type": "stream",
     "text": [
      "C:\\Users\\LGPC\\AppData\\Local\\Temp\\ipykernel_1292\\1517061725.py:1: DtypeWarning: Columns (13,15) have mixed types. Specify dtype option on import or set low_memory=False.\n",
      "  df = pd.read_csv('ca-dealers-used.csv')\n"
     ]
    },
    {
     "data": {
      "text/html": [
       "<div>\n",
       "<style scoped>\n",
       "    .dataframe tbody tr th:only-of-type {\n",
       "        vertical-align: middle;\n",
       "    }\n",
       "\n",
       "    .dataframe tbody tr th {\n",
       "        vertical-align: top;\n",
       "    }\n",
       "\n",
       "    .dataframe thead th {\n",
       "        text-align: right;\n",
       "    }\n",
       "</style>\n",
       "<table border=\"1\" class=\"dataframe\">\n",
       "  <thead>\n",
       "    <tr style=\"text-align: right;\">\n",
       "      <th></th>\n",
       "      <th>id</th>\n",
       "      <th>vin</th>\n",
       "      <th>price</th>\n",
       "      <th>miles</th>\n",
       "      <th>stock_no</th>\n",
       "      <th>year</th>\n",
       "      <th>make</th>\n",
       "      <th>model</th>\n",
       "      <th>trim</th>\n",
       "      <th>body_type</th>\n",
       "      <th>...</th>\n",
       "      <th>drivetrain</th>\n",
       "      <th>transmission</th>\n",
       "      <th>fuel_type</th>\n",
       "      <th>engine_size</th>\n",
       "      <th>engine_block</th>\n",
       "      <th>seller_name</th>\n",
       "      <th>street</th>\n",
       "      <th>city</th>\n",
       "      <th>state</th>\n",
       "      <th>zip</th>\n",
       "    </tr>\n",
       "  </thead>\n",
       "  <tbody>\n",
       "    <tr>\n",
       "      <th>0</th>\n",
       "      <td>b39ea795-eca9</td>\n",
       "      <td>19UNC1B01HY800062</td>\n",
       "      <td>179999.0</td>\n",
       "      <td>9966.0</td>\n",
       "      <td>V-P4139</td>\n",
       "      <td>2017.0</td>\n",
       "      <td>Acura</td>\n",
       "      <td>NSX</td>\n",
       "      <td>Base</td>\n",
       "      <td>Coupe</td>\n",
       "      <td>...</td>\n",
       "      <td>4WD</td>\n",
       "      <td>Automatic</td>\n",
       "      <td>Electric / Premium Unleaded</td>\n",
       "      <td>3.5</td>\n",
       "      <td>V</td>\n",
       "      <td>edmundston honda</td>\n",
       "      <td>475 Rue Victoria</td>\n",
       "      <td>Edmundston</td>\n",
       "      <td>NB</td>\n",
       "      <td>E3V 2K7</td>\n",
       "    </tr>\n",
       "    <tr>\n",
       "      <th>1</th>\n",
       "      <td>026cb5b1-6e3e</td>\n",
       "      <td>19UNC1B02HY800023</td>\n",
       "      <td>179995.0</td>\n",
       "      <td>5988.0</td>\n",
       "      <td>PPAP70374</td>\n",
       "      <td>2017.0</td>\n",
       "      <td>Acura</td>\n",
       "      <td>NSX</td>\n",
       "      <td>Base</td>\n",
       "      <td>Coupe</td>\n",
       "      <td>...</td>\n",
       "      <td>4WD</td>\n",
       "      <td>Automatic</td>\n",
       "      <td>Electric / Premium Unleaded</td>\n",
       "      <td>3.5</td>\n",
       "      <td>V</td>\n",
       "      <td>garage daniel lessard</td>\n",
       "      <td>2795 Route-du-prsident-kennedy</td>\n",
       "      <td>Notre-dame-des-pins</td>\n",
       "      <td>QC</td>\n",
       "      <td>G0M 1K0</td>\n",
       "    </tr>\n",
       "    <tr>\n",
       "      <th>2</th>\n",
       "      <td>5cd5d5b2-5cc2</td>\n",
       "      <td>19UNC1B02HY800071</td>\n",
       "      <td>168528.0</td>\n",
       "      <td>24242.0</td>\n",
       "      <td>B21085</td>\n",
       "      <td>2017.0</td>\n",
       "      <td>Acura</td>\n",
       "      <td>NSX</td>\n",
       "      <td>Base</td>\n",
       "      <td>Coupe</td>\n",
       "      <td>...</td>\n",
       "      <td>4WD</td>\n",
       "      <td>Automatic</td>\n",
       "      <td>Electric / Premium Unleaded</td>\n",
       "      <td>3.5</td>\n",
       "      <td>V</td>\n",
       "      <td>lougheed acura</td>\n",
       "      <td>1388 Lougheed Highway</td>\n",
       "      <td>Coquitlam</td>\n",
       "      <td>BC</td>\n",
       "      <td>V3K 6S4</td>\n",
       "    </tr>\n",
       "    <tr>\n",
       "      <th>3</th>\n",
       "      <td>b32473ed-5922</td>\n",
       "      <td>19UNC1B02LY800001</td>\n",
       "      <td>220000.0</td>\n",
       "      <td>6637.0</td>\n",
       "      <td>AP5333</td>\n",
       "      <td>2020.0</td>\n",
       "      <td>Acura</td>\n",
       "      <td>NSX</td>\n",
       "      <td>Base</td>\n",
       "      <td>Coupe</td>\n",
       "      <td>...</td>\n",
       "      <td>4WD</td>\n",
       "      <td>Automatic</td>\n",
       "      <td>Electric / Premium Unleaded</td>\n",
       "      <td>3.5</td>\n",
       "      <td>V</td>\n",
       "      <td>drive autogroup</td>\n",
       "      <td>1305 Parkway Suite 600</td>\n",
       "      <td>Pickering</td>\n",
       "      <td>ON</td>\n",
       "      <td>L1V 3P2</td>\n",
       "    </tr>\n",
       "    <tr>\n",
       "      <th>4</th>\n",
       "      <td>ac40c9fc-0676</td>\n",
       "      <td>19UNC1B02LY800001</td>\n",
       "      <td>220000.0</td>\n",
       "      <td>6637.0</td>\n",
       "      <td>AP5333</td>\n",
       "      <td>2020.0</td>\n",
       "      <td>Acura</td>\n",
       "      <td>NSX</td>\n",
       "      <td>Base</td>\n",
       "      <td>Coupe</td>\n",
       "      <td>...</td>\n",
       "      <td>4WD</td>\n",
       "      <td>Automatic</td>\n",
       "      <td>Electric / Premium Unleaded</td>\n",
       "      <td>3.5</td>\n",
       "      <td>V</td>\n",
       "      <td>acura pickering</td>\n",
       "      <td>575 Kingston Road</td>\n",
       "      <td>Pickering</td>\n",
       "      <td>ON</td>\n",
       "      <td>L1V 3N7</td>\n",
       "    </tr>\n",
       "  </tbody>\n",
       "</table>\n",
       "<p>5 rows × 21 columns</p>\n",
       "</div>"
      ],
      "text/plain": [
       "              id                vin     price    miles   stock_no    year  \\\n",
       "0  b39ea795-eca9  19UNC1B01HY800062  179999.0   9966.0    V-P4139  2017.0   \n",
       "1  026cb5b1-6e3e  19UNC1B02HY800023  179995.0   5988.0  PPAP70374  2017.0   \n",
       "2  5cd5d5b2-5cc2  19UNC1B02HY800071  168528.0  24242.0     B21085  2017.0   \n",
       "3  b32473ed-5922  19UNC1B02LY800001  220000.0   6637.0     AP5333  2020.0   \n",
       "4  ac40c9fc-0676  19UNC1B02LY800001  220000.0   6637.0     AP5333  2020.0   \n",
       "\n",
       "    make model  trim body_type  ... drivetrain transmission  \\\n",
       "0  Acura   NSX  Base     Coupe  ...        4WD    Automatic   \n",
       "1  Acura   NSX  Base     Coupe  ...        4WD    Automatic   \n",
       "2  Acura   NSX  Base     Coupe  ...        4WD    Automatic   \n",
       "3  Acura   NSX  Base     Coupe  ...        4WD    Automatic   \n",
       "4  Acura   NSX  Base     Coupe  ...        4WD    Automatic   \n",
       "\n",
       "                     fuel_type engine_size  engine_block  \\\n",
       "0  Electric / Premium Unleaded         3.5             V   \n",
       "1  Electric / Premium Unleaded         3.5             V   \n",
       "2  Electric / Premium Unleaded         3.5             V   \n",
       "3  Electric / Premium Unleaded         3.5             V   \n",
       "4  Electric / Premium Unleaded         3.5             V   \n",
       "\n",
       "             seller_name                          street                 city  \\\n",
       "0       edmundston honda                475 Rue Victoria           Edmundston   \n",
       "1  garage daniel lessard  2795 Route-du-prsident-kennedy  Notre-dame-des-pins   \n",
       "2         lougheed acura           1388 Lougheed Highway            Coquitlam   \n",
       "3        drive autogroup          1305 Parkway Suite 600            Pickering   \n",
       "4        acura pickering               575 Kingston Road            Pickering   \n",
       "\n",
       "  state      zip  \n",
       "0    NB  E3V 2K7  \n",
       "1    QC  G0M 1K0  \n",
       "2    BC  V3K 6S4  \n",
       "3    ON  L1V 3P2  \n",
       "4    ON  L1V 3N7  \n",
       "\n",
       "[5 rows x 21 columns]"
      ]
     },
     "execution_count": 2,
     "metadata": {},
     "output_type": "execute_result"
    }
   ],
   "source": [
    "df = pd.read_csv('ca-dealers-used.csv')\n",
    "df.head()"
   ]
  },
  {
   "cell_type": "code",
   "execution_count": 3,
   "id": "a44e73a4-bbc9-41f2-b998-13e3b51c3a33",
   "metadata": {},
   "outputs": [
    {
     "data": {
      "text/plain": [
       "Index(['id', 'vin', 'price', 'miles', 'stock_no', 'year', 'make', 'model',\n",
       "       'trim', 'body_type', 'vehicle_type', 'drivetrain', 'transmission',\n",
       "       'fuel_type', 'engine_size', 'engine_block', 'seller_name', 'street',\n",
       "       'city', 'state', 'zip'],\n",
       "      dtype='object')"
      ]
     },
     "execution_count": 3,
     "metadata": {},
     "output_type": "execute_result"
    }
   ],
   "source": [
    "df.columns"
   ]
  },
  {
   "cell_type": "code",
   "execution_count": 4,
   "id": "6fd8c1d5-b75d-4502-ac0a-93d655623d09",
   "metadata": {},
   "outputs": [
    {
     "name": "stdout",
     "output_type": "stream",
     "text": [
      "Column: id, Data Type: object\n",
      "Column: vin, Data Type: object\n",
      "Column: price, Data Type: float64\n",
      "Column: miles, Data Type: float64\n",
      "Column: stock_no, Data Type: object\n",
      "Column: year, Data Type: float64\n",
      "Column: make, Data Type: object\n",
      "Column: model, Data Type: object\n",
      "Column: trim, Data Type: object\n",
      "Column: body_type, Data Type: object\n",
      "Column: vehicle_type, Data Type: object\n",
      "Column: drivetrain, Data Type: object\n",
      "Column: transmission, Data Type: object\n",
      "Column: fuel_type, Data Type: object\n",
      "Column: engine_size, Data Type: float64\n",
      "Column: engine_block, Data Type: object\n",
      "Column: seller_name, Data Type: object\n",
      "Column: street, Data Type: object\n",
      "Column: city, Data Type: object\n",
      "Column: state, Data Type: object\n",
      "Column: zip, Data Type: object\n"
     ]
    }
   ],
   "source": [
    "columns = df.columns\n",
    "for c in columns:\n",
    "    print(f\"Column: {c}, Data Type: {df[c].dtype}\")\n",
    "\n"
   ]
  },
  {
   "cell_type": "code",
   "execution_count": 5,
   "id": "7de58942-a391-4c1f-8e69-c579c2e30132",
   "metadata": {},
   "outputs": [
    {
     "data": {
      "text/html": [
       "<div>\n",
       "<style scoped>\n",
       "    .dataframe tbody tr th:only-of-type {\n",
       "        vertical-align: middle;\n",
       "    }\n",
       "\n",
       "    .dataframe tbody tr th {\n",
       "        vertical-align: top;\n",
       "    }\n",
       "\n",
       "    .dataframe thead th {\n",
       "        text-align: right;\n",
       "    }\n",
       "</style>\n",
       "<table border=\"1\" class=\"dataframe\">\n",
       "  <thead>\n",
       "    <tr style=\"text-align: right;\">\n",
       "      <th></th>\n",
       "      <th>id</th>\n",
       "      <th>vin</th>\n",
       "      <th>stock_no</th>\n",
       "      <th>trim</th>\n",
       "      <th>make</th>\n",
       "      <th>model</th>\n",
       "      <th>body_type</th>\n",
       "      <th>vehicle_type</th>\n",
       "      <th>drivetrain</th>\n",
       "      <th>transmission</th>\n",
       "      <th>fuel_type</th>\n",
       "      <th>engine_block</th>\n",
       "    </tr>\n",
       "  </thead>\n",
       "  <tbody>\n",
       "    <tr>\n",
       "      <th>0</th>\n",
       "      <td>b39ea795-eca9</td>\n",
       "      <td>19UNC1B01HY800062</td>\n",
       "      <td>V-P4139</td>\n",
       "      <td>Base</td>\n",
       "      <td>Acura</td>\n",
       "      <td>NSX</td>\n",
       "      <td>Coupe</td>\n",
       "      <td>Car</td>\n",
       "      <td>4WD</td>\n",
       "      <td>Automatic</td>\n",
       "      <td>Electric / Premium Unleaded</td>\n",
       "      <td>V</td>\n",
       "    </tr>\n",
       "    <tr>\n",
       "      <th>1</th>\n",
       "      <td>026cb5b1-6e3e</td>\n",
       "      <td>19UNC1B02HY800023</td>\n",
       "      <td>PPAP70374</td>\n",
       "      <td>Base</td>\n",
       "      <td>Acura</td>\n",
       "      <td>NSX</td>\n",
       "      <td>Coupe</td>\n",
       "      <td>Car</td>\n",
       "      <td>4WD</td>\n",
       "      <td>Automatic</td>\n",
       "      <td>Electric / Premium Unleaded</td>\n",
       "      <td>V</td>\n",
       "    </tr>\n",
       "    <tr>\n",
       "      <th>2</th>\n",
       "      <td>5cd5d5b2-5cc2</td>\n",
       "      <td>19UNC1B02HY800071</td>\n",
       "      <td>B21085</td>\n",
       "      <td>Base</td>\n",
       "      <td>Acura</td>\n",
       "      <td>NSX</td>\n",
       "      <td>Coupe</td>\n",
       "      <td>Car</td>\n",
       "      <td>4WD</td>\n",
       "      <td>Automatic</td>\n",
       "      <td>Electric / Premium Unleaded</td>\n",
       "      <td>V</td>\n",
       "    </tr>\n",
       "    <tr>\n",
       "      <th>3</th>\n",
       "      <td>b32473ed-5922</td>\n",
       "      <td>19UNC1B02LY800001</td>\n",
       "      <td>AP5333</td>\n",
       "      <td>Base</td>\n",
       "      <td>Acura</td>\n",
       "      <td>NSX</td>\n",
       "      <td>Coupe</td>\n",
       "      <td>Car</td>\n",
       "      <td>4WD</td>\n",
       "      <td>Automatic</td>\n",
       "      <td>Electric / Premium Unleaded</td>\n",
       "      <td>V</td>\n",
       "    </tr>\n",
       "    <tr>\n",
       "      <th>4</th>\n",
       "      <td>ac40c9fc-0676</td>\n",
       "      <td>19UNC1B02LY800001</td>\n",
       "      <td>AP5333</td>\n",
       "      <td>Base</td>\n",
       "      <td>Acura</td>\n",
       "      <td>NSX</td>\n",
       "      <td>Coupe</td>\n",
       "      <td>Car</td>\n",
       "      <td>4WD</td>\n",
       "      <td>Automatic</td>\n",
       "      <td>Electric / Premium Unleaded</td>\n",
       "      <td>V</td>\n",
       "    </tr>\n",
       "    <tr>\n",
       "      <th>...</th>\n",
       "      <td>...</td>\n",
       "      <td>...</td>\n",
       "      <td>...</td>\n",
       "      <td>...</td>\n",
       "      <td>...</td>\n",
       "      <td>...</td>\n",
       "      <td>...</td>\n",
       "      <td>...</td>\n",
       "      <td>...</td>\n",
       "      <td>...</td>\n",
       "      <td>...</td>\n",
       "      <td>...</td>\n",
       "    </tr>\n",
       "    <tr>\n",
       "      <th>393598</th>\n",
       "      <td>f71c5738-33d8</td>\n",
       "      <td>WDC0G5EB8KF614677</td>\n",
       "      <td>M0684</td>\n",
       "      <td>GLC350e</td>\n",
       "      <td>Mercedes-Benz</td>\n",
       "      <td>GLC-Class</td>\n",
       "      <td>SUV</td>\n",
       "      <td>Truck</td>\n",
       "      <td>4WD</td>\n",
       "      <td>Automatic</td>\n",
       "      <td>Electric / Unleaded</td>\n",
       "      <td>I</td>\n",
       "    </tr>\n",
       "    <tr>\n",
       "      <th>393599</th>\n",
       "      <td>873d76f0-18d2</td>\n",
       "      <td>WDC0G5EB9JF465808</td>\n",
       "      <td>D13339</td>\n",
       "      <td>GLC350e</td>\n",
       "      <td>Mercedes-Benz</td>\n",
       "      <td>GLC-Class</td>\n",
       "      <td>SUV</td>\n",
       "      <td>Truck</td>\n",
       "      <td>4WD</td>\n",
       "      <td>Automatic</td>\n",
       "      <td>Electric / Unleaded</td>\n",
       "      <td>I</td>\n",
       "    </tr>\n",
       "    <tr>\n",
       "      <th>393600</th>\n",
       "      <td>7ead9dba-6cdd</td>\n",
       "      <td>WDC0G5EB9JF465808</td>\n",
       "      <td>D13339</td>\n",
       "      <td>GLC350e</td>\n",
       "      <td>Mercedes-Benz</td>\n",
       "      <td>GLC-Class</td>\n",
       "      <td>SUV</td>\n",
       "      <td>Truck</td>\n",
       "      <td>4WD</td>\n",
       "      <td>Automatic</td>\n",
       "      <td>Electric / Unleaded</td>\n",
       "      <td>I</td>\n",
       "    </tr>\n",
       "    <tr>\n",
       "      <th>393601</th>\n",
       "      <td>efa897c2-a52f</td>\n",
       "      <td>WP1BE2AY4LDA55072</td>\n",
       "      <td>NaN</td>\n",
       "      <td>E-Hybrid</td>\n",
       "      <td>Porsche</td>\n",
       "      <td>Cayenne Coupe</td>\n",
       "      <td>SUV</td>\n",
       "      <td>Truck</td>\n",
       "      <td>4WD</td>\n",
       "      <td>Automatic</td>\n",
       "      <td>Electric / Unleaded</td>\n",
       "      <td>V</td>\n",
       "    </tr>\n",
       "    <tr>\n",
       "      <th>393602</th>\n",
       "      <td>479607ed-62af</td>\n",
       "      <td>WP1BE2AY8LDA55284</td>\n",
       "      <td>P16107</td>\n",
       "      <td>E-Hybrid</td>\n",
       "      <td>Porsche</td>\n",
       "      <td>Cayenne Coupe</td>\n",
       "      <td>SUV</td>\n",
       "      <td>Truck</td>\n",
       "      <td>4WD</td>\n",
       "      <td>Automatic</td>\n",
       "      <td>Electric / Unleaded</td>\n",
       "      <td>V</td>\n",
       "    </tr>\n",
       "  </tbody>\n",
       "</table>\n",
       "<p>393603 rows × 12 columns</p>\n",
       "</div>"
      ],
      "text/plain": [
       "                   id                vin   stock_no      trim           make  \\\n",
       "0       b39ea795-eca9  19UNC1B01HY800062    V-P4139      Base          Acura   \n",
       "1       026cb5b1-6e3e  19UNC1B02HY800023  PPAP70374      Base          Acura   \n",
       "2       5cd5d5b2-5cc2  19UNC1B02HY800071     B21085      Base          Acura   \n",
       "3       b32473ed-5922  19UNC1B02LY800001     AP5333      Base          Acura   \n",
       "4       ac40c9fc-0676  19UNC1B02LY800001     AP5333      Base          Acura   \n",
       "...               ...                ...        ...       ...            ...   \n",
       "393598  f71c5738-33d8  WDC0G5EB8KF614677      M0684   GLC350e  Mercedes-Benz   \n",
       "393599  873d76f0-18d2  WDC0G5EB9JF465808     D13339   GLC350e  Mercedes-Benz   \n",
       "393600  7ead9dba-6cdd  WDC0G5EB9JF465808     D13339   GLC350e  Mercedes-Benz   \n",
       "393601  efa897c2-a52f  WP1BE2AY4LDA55072        NaN  E-Hybrid        Porsche   \n",
       "393602  479607ed-62af  WP1BE2AY8LDA55284     P16107  E-Hybrid        Porsche   \n",
       "\n",
       "                model body_type vehicle_type drivetrain transmission  \\\n",
       "0                 NSX     Coupe          Car        4WD    Automatic   \n",
       "1                 NSX     Coupe          Car        4WD    Automatic   \n",
       "2                 NSX     Coupe          Car        4WD    Automatic   \n",
       "3                 NSX     Coupe          Car        4WD    Automatic   \n",
       "4                 NSX     Coupe          Car        4WD    Automatic   \n",
       "...               ...       ...          ...        ...          ...   \n",
       "393598      GLC-Class       SUV        Truck        4WD    Automatic   \n",
       "393599      GLC-Class       SUV        Truck        4WD    Automatic   \n",
       "393600      GLC-Class       SUV        Truck        4WD    Automatic   \n",
       "393601  Cayenne Coupe       SUV        Truck        4WD    Automatic   \n",
       "393602  Cayenne Coupe       SUV        Truck        4WD    Automatic   \n",
       "\n",
       "                          fuel_type engine_block  \n",
       "0       Electric / Premium Unleaded            V  \n",
       "1       Electric / Premium Unleaded            V  \n",
       "2       Electric / Premium Unleaded            V  \n",
       "3       Electric / Premium Unleaded            V  \n",
       "4       Electric / Premium Unleaded            V  \n",
       "...                             ...          ...  \n",
       "393598          Electric / Unleaded            I  \n",
       "393599          Electric / Unleaded            I  \n",
       "393600          Electric / Unleaded            I  \n",
       "393601          Electric / Unleaded            V  \n",
       "393602          Electric / Unleaded            V  \n",
       "\n",
       "[393603 rows x 12 columns]"
      ]
     },
     "execution_count": 5,
     "metadata": {},
     "output_type": "execute_result"
    }
   ],
   "source": [
    "cat=df[['id', 'vin','stock_no','trim','make', 'model','body_type', 'vehicle_type','drivetrain', 'transmission',\n",
    "       'fuel_type','engine_block']]\n",
    "cat"
   ]
  },
  {
   "cell_type": "code",
   "execution_count": 6,
   "id": "b7630981-d155-4d8e-b448-afec29bc8b68",
   "metadata": {},
   "outputs": [],
   "source": [
    "cat=df[['trim','make', 'model','body_type', 'vehicle_type','drivetrain', 'transmission',\n",
    "       'fuel_type','engine_block']]"
   ]
  },
  {
   "cell_type": "code",
   "execution_count": 7,
   "id": "5b10febc-03c7-4879-a199-b435f998853b",
   "metadata": {},
   "outputs": [
    {
     "name": "stdout",
     "output_type": "stream",
     "text": [
      "Unique values in 'trim': ['Base' 'SXT' 'S' ... 'S Touring' 'S560e' 'GLC350e']\n",
      "Unique values in 'make': ['Acura' 'Dodge' 'Chrysler' 'RAM' 'Ford' 'Chevrolet' 'Buick' 'Cadillac'\n",
      " 'GMC' 'Nissan' 'Lexus' 'Volkswagen' 'BMW' 'Mercedes-Benz' 'Toyota'\n",
      " 'Hummer' 'Lincoln' 'Volvo' 'INFINITI' 'Land Rover' 'Bentley' 'Audi'\n",
      " 'MINI' 'Porsche' 'Maserati' 'Am General' 'Honda' 'Jeep' 'Pontiac'\n",
      " 'Oldsmobile' 'Saturn' 'Eagle' 'Mazda' 'Mercury' 'Hyundai' 'Suzuki' 'FIAT'\n",
      " 'Kia' 'Scion' 'Mitsubishi' 'Subaru' 'Isuzu' 'smart' 'Tesla' 'Saab'\n",
      " 'GENESIS' 'Jaguar' 'McLaren' 'Rolls-Royce' 'Lotus' 'Aston Martin'\n",
      " 'Lamborghini' 'Alfa Romeo' 'Ferrari' 'Plymouth' 'Maybach' 'KARMA']\n",
      "Unique values in 'model': ['NSX' 'Avenger' '200' 'Ram 1500 Pickup' 'Explorer' 'F-150' 'Ranger'\n",
      " 'Camaro' 'Volt' 'Corvette' 'LaCrosse' 'Eldorado' 'Seville' 'ELR'\n",
      " 'Express Passenger' 'Silverado 2500HD' 'Silverado 3500HD'\n",
      " 'Silverado 3500' 'Express Cargo' 'Sierra 3500 Chassis Cab' 'Yukon'\n",
      " 'Yukon XL' 'Escalade' 'Escalade ESV' 'Titan' 'Challenger'\n",
      " 'Silverado 1500' 'Silverado 1500 LD' 'Terrain' 'Sierra 1500' 'RX Hybrid'\n",
      " 'RX' 'Routan' 'Ram 2500 Pickup' 'Fiesta' 'HHR' 'Sierra 1500 Denali'\n",
      " 'Sierra Denali' 'Escalade EXT' '3 Series' 'Jetta' 'GLE' 'GLE-Class' 'GLS'\n",
      " 'GL-Class' 'GLS-Class' 'Avalon' 'H3T' 'H2' 'H3' 'Aviator' 'X5' 'X3' 'S60'\n",
      " 'RSX' 'RLX' 'Q50' 'M' 'Prius' 'Mirai' 'Highlander' 'GS' 'LS' 'CT6' 'S90'\n",
      " 'XC60' 'Discovery Sport' 'Defender' 'Range Rover' 'Range Rover Sport'\n",
      " 'Continental Flying Spur' 'Continental Supersports' 'Continental GT'\n",
      " 'Continental GTC' 'CLS-Class' 'AMGA GT 4-Door Coupe' 'E-Class' 'Q5'\n",
      " 'allroad' 'A6' 'A4' 'A5 Coupe' 'A5' 'A3 Sportback e-tron' '5 Series'\n",
      " '7 Series' 'Z8' 'i3' 'I8' 'i8' 'I3' 'C-Class' 'S-Class' 'Countryman'\n",
      " 'Panamera' '918' 'Cayenne' 'Touareg' 'XC90' 'GranTurismo' 'Charger' 'H1'\n",
      " 'ILX' 'TL' 'TLX' 'Insight' 'Caliber' 'Viper' 'Neon' 'SX' nan 'Dakota'\n",
      " 'Crossfire' 'Sebring' 'Cirrus' 'Dart' 'Wrangler' 'Wrangler JK'\n",
      " 'All-New Wrangler' 'All-New Wrangler Unlimited' 'Wrangler Unlimited'\n",
      " 'Wrangler JK Unlimited' 'Compass' 'Cherokee' 'Patriot' 'Liberty'\n",
      " 'Durango' 'Grand Cherokee' 'Truck' 'Gladiator' 'Classic'\n",
      " 'Ram 1500 Classic' 'Ram Pickup' 'Caravan' 'Nitro' 'Fusion' 'Mustang'\n",
      " 'Focus' 'C-Max' 'Taurus' 'Contour' 'Thunderbird' 'Escort' 'Transit Wagon'\n",
      " 'Transit Passenger Van' 'E-Series Econoline Wagon' 'Club Wagon'\n",
      " 'Econoline Wagon' 'Transit' 'F-350 SD Chassis Cab' 'Transit Cutaway'\n",
      " 'F-550 Super Duty Chassis Cab' 'cube' 'F-350' 'X2' 'Escape'\n",
      " 'Explorer Sport Trac' 'Expedition' 'Explorer Sport' 'F-250 Super Duty'\n",
      " 'F-250' 'F-350 Super Duty' 'Transit Van' 'Econoline Van'\n",
      " 'E-Series Econoline Van' 'F-450 Super Duty' 'Impala' 'Malibu'\n",
      " 'Malibu Limited' 'Cavalier' 'Cobalt' 'Monte Carlo' 'Cruze' 'Convertible'\n",
      " 'Sonic' 'Cruze Limited' 'Corsica' 'G5' 'Coupe' 'IS' '500' 'Sunfire'\n",
      " 'Grand Prix' 'G6' 'Cutlass' 'Aurora' 'Alero' 'Achieva' 'Supreme'\n",
      " 'Intrigue' 'Cutlass Supreme' 'Lucerne' 'Verano' 'CT4' 'ATS Sedan' 'ATS'\n",
      " 'CTS Sedan' 'CT5' 'CTS' 'STS' 'Catera' 'CTS Sport Sedan' 'CTS Coupe'\n",
      " 'DeVille' 'DTS' 'S-Series' 'ION' 'Aura' 'Express' 'Express Cutaway'\n",
      " 'Colorado' 'Astro Cargo' 'Astro Passenger' 'Astro' 'S-10' 'C1500'\n",
      " 'Silverado Classic 1500' 'Silverado' 'SSR' 'Silverado Classic 2500HD'\n",
      " 'Chevy Van' 'Savana' 'Sierra 3500' 'Sierra' 'Savana Passenger' 'Jimmy'\n",
      " 'Envoy' 'Safari' 'Acadia' 'Suburban' 'Montana SV6' 'Montana'\n",
      " 'Trans Sport' 'Equinox' 'Blazer' 'TrailBlazer' 'Venture' 'Uplander'\n",
      " 'Traverse' 'Tahoe' 'Sierra 2500HD' 'Sierra 3500 Denali HD'\n",
      " 'Sierra 3500HD' 'Canyon' 'Sonoma' 'Savana Cargo' 'Sierra 2500' 'SRX'\n",
      " 'XT5' 'Pilot' 'Accord' 'A5 Sportback' 'Civic' 'Mark VII' 'Town Car' 'MKS'\n",
      " 'Continental' 'Maxima' 'Altima' 'Altima Coupe' 'Altima Sedan' 'Leaf'\n",
      " 'LEAF' 'Titan XD' 'Frontier' 'NV Cargo' 'Atlas' 'Atlas Cross Sport'\n",
      " 'Passat' 'Mazda6' 'MAZDA6' 'Mazda2' 'Town & Country' 'Pacifica'\n",
      " 'Roadster' 'Grand Caravan' 'Ram Van' 'R32' 'Tacoma' 'Intrepid' '300'\n",
      " 'Ram Cargo Van' 'Voyager' 'Pacifica Hybrid' 'Odyssey' 'Tracker'\n",
      " 'Crown Victoria' 'GT' 'Freestar' 'Edge' 'Windstar' 'Lumina' 'Firebird'\n",
      " 'Regal' 'Century' 'XTS' 'K1500' 'Sierra Classic 1500' 'G Sedan' 'G'\n",
      " 'HR-V' 'EX' 'Sonata' 'Ridgeline' 'CR-V' 'Turbo' 'LX' 'Passport' 'ZDX'\n",
      " 'MDX' 'Nautilus' 'MKX' 'MKT' 'Grand Marquis' 'XL7' 'Corolla' 'Matrix'\n",
      " 'RAV4' 'Rav4' 'A8' '500c' 'PT Cruiser' 'All-New Compass' 'Journey'\n",
      " 'Ram 3500 Pickup' 'Ram 5500 Chassis Cab' 'Ram 3500 Chassis Cab'\n",
      " 'Ram 4500 Chassis Cab' 'Fusion Energi' 'Fusion Hybrid' 'Aveo' 'G3'\n",
      " 'Rendezvous' 'Trax' 'Avalanche' 'VUE' 'Fit' 'Rio' 'Rio 5-Door' 'Accent'\n",
      " 'Spectra' 'FORTE' 'Sephia' 'Forte' 'MKZ' 'CX-30' 'Yaris' 'iA' 'Mazda3'\n",
      " 'MAZDA3' 'Sky' 'GX' 'Sentra' 'Versa Sedan' 'Versa' 'Versa Note' 'M5'\n",
      " '370Z' 'Kicks' 'NV200' 'QX50' 'Tiguan' 'Golf' 'Rabbit' 'New Jetta' 'GTI'\n",
      " 'Golf GTI' 'Beetle' 'Golf SportWagen' 'New Beetle' 'Cabrio'\n",
      " 'Golf Alltrack' 'Jetta SportWagen' 'Eclipse' 'Eclipse Spyder' 'ES'\n",
      " 'Encore' 'Endeavor' 'Tribute' 'B-Series' 'M-Class' 'R-Class' 'A7' '360'\n",
      " 'GLE-Class Coupe' 'Quest' 'Legacy' 'Outback' 'Impreza' 'Ascent' 'Tribeca'\n",
      " 'Camry' 'Camry Solara' 'Venza' 'Sienna' 'Z4' 'Z3' 'Vision'\n",
      " 'ProMaster Cargo Van' 'C-Class Sedan' 'NV Passenger' 'Enclave'\n",
      " 'Accord Crosstour' 'Crosstour' 'Element' 'RDX' 'Navigator' 'MKC'\n",
      " 'Corsair' 'Armada' 'JX' 'QX60' 'Xterra' 'Pathfinder' 'Rogue' 'Murano'\n",
      " 'Pathfinder Hybrid' 'Santa Fe' 'Santa Fe Sport' 'Elantra' 'Tundra' 'X4'\n",
      " 'X6' 'Optima' 'New Optima' 'K5' 'Sorento' 'Sportage' 'Vibe' 'Model 3'\n",
      " 'Model S' 'Model X' 'X5 M' 'Lancer' 'Outlander' 'Eclipse Cross'\n",
      " '124 Spider' 'SVX' 'WRX' 'WRX STI' 'Forester' 'BRZ' '86' 'Crosstrek'\n",
      " 'XV Crosstrek' '9-2X' 'TSX' 'Integra' 'RL' 'Protege' 'MAZDA5' 'CX-3'\n",
      " 'RX-8' 'MX-5' 'MX-5 Miata' 'Miata' 'MX-5 Miata RF' 'CX-7' 'CX-5' 'MPV'\n",
      " 'CX-9' '350Z Roadster' '370Z Coupe' '350Z' 'Rogue Sport' 'G35' 'Q70L'\n",
      " 'Q60 Coupe' 'G Convertible' 'JUKE' 'Juke' 'QX70' 'QX80' 'QX' 'XE' 'FX35'\n",
      " 'FX' 'Q70' 'G Coupe' 'QX3' '900' 'Aerio' 'Esteem' 'Kizashi' 'SX4'\n",
      " 'SX4 Crossover' 'SX4 Sedan' 'SX4 Sport' 'Grand Vitara' 'Vitara' 'XL-7'\n",
      " 'Tercel' 'Celica' '4Runner' 'Echo' 'Prius Prime' 'Prius Plug-In'\n",
      " 'Prius c' 'Prius C' 'Prius v' 'FJ Cruiser' 'HS' 'ES Hybrid' 'CT'\n",
      " 'UX Hybrid' 'UX' 'RC' 'NX' 'tC' 'xA' 'xD' 'xB' 'RAV4 Prime'\n",
      " 'Corolla Hatchback' 'Corolla iM' 'iM' 'C-HR' 'Aveo5' 'Swift' 'Verona'\n",
      " 'Soul' 'Tucson' 'Kona' 'Veracruz' 'Ioniq' 'IONIQ' 'Elantra GT'\n",
      " 'Elantra Touring' 'Elantra Coupe' 'Sonata Hybrid' 'Sonata Plug-In Hybrid'\n",
      " 'XG300' 'G80' 'Genesis' 'Equus' 'Tiburon' 'Genesis Coupe' 'Venue'\n",
      " 'Veloster' 'G90' 'G70' 'GV80' 'RIO' 'Forte5' 'Rondo' 'Forte Koup'\n",
      " 'Cadenza' 'Niro' 'Seltos' 'Borrego' 'Sedona' 'Carnival' 'Entourage'\n",
      " 'Mirage' 'Mirage G4' 'Transit Connect' 'F-Pace' 'F-PACE' 'E-PACE' 'XF'\n",
      " 'F-Type' 'S-Type' 'XJ Series' 'XJ' 'X-Type' 'XK' 'F-TYPE' 'LR3' 'LR4'\n",
      " 'Discovery' 'LR2' 'Range Rover Evoque' 'Range Rover Velar' '12C' '650S'\n",
      " '720S' 'Senna' 'Phantom' 'Flying Spur' 'Brooklands' 'Esprit' 'Evora'\n",
      " 'DB7' 'Vanquish' 'Civic Hatchback' 'QX30' 'CL' 'TTS' 'TT' 'TT Coupe'\n",
      " 'Astra' 'A-Class' 'CLA-Class' 'C-Class Coupe' 'AMG GT Roadster'\n",
      " 'GLK-Class' 'GLC' 'GLB' 'GLA' 'Sprinter Crew Van' 'Sprinter Van'\n",
      " 'Sprinter Cargo Van' 'Metris Cargo Van' 'Sprinter Passenger Van' 'Q7'\n",
      " 'Q3' 'SQ5' 'Q8' 'A3' 'Cabriolet' 'S3' 'S4' 'S6' 'S5' 'A3 Sedan' 'S7'\n",
      " 'SQ7' 'S5 Cabriolet' 'e-tron' '2 Series' '4 Series'\n",
      " 'ALPINA B6 Gran Coupe' '6 Series Convertible' '6 Series' '1 Series' 'X1'\n",
      " 'M6 Gran Coupe' 'Metris Passenger Van' 'Sprinter Cab Chassis' 'SLK'\n",
      " 'G-Class' '500e' 'SL-Class' 'SLK-Class' 'CLK' 'CL Class' 'CL-Class'\n",
      " 'SL Roadster' 'GLC-Class' 'GLC Coupe' 'GLA-Class' 'AMG GT' 'B-Class'\n",
      " 'SLC Roadster' 'SLS AMG' 'CLA' 'AMG GT Coupe' 'fortwo' 'Clubman'\n",
      " 'Hardtop 2 Door' 'MINI' 'Cooper' 'Hardtop 4 Door' '718' 'Cayman' '911'\n",
      " 'Taycan' 'Boxster' 'Macan' 'Cayenne Coupe' 'RS 5' 'RS 5 Coupe'\n",
      " 'RS 5 Sportback' 'RS6' 'RS 7' 'RS4' 'Touareg 2' 'Tiguan Limited' 'Eos'\n",
      " 'CC' 'Arteon' 'e-Golf' 'Golf R' 'Supra' '9-5' '9-3' 'C30' 'S40' 'V60'\n",
      " 'V90' 'S80' 'S70' 'V50' 'New S40' 'V70' 'XC70' 'V40' 'V60 Cross Country'\n",
      " 'XC40' 'V90 Cross Country' 'V70 XC' 'Diablo' 'Renegade' 'Quattroporte'\n",
      " 'Giulia' '500L' 'Promaster City' 'F12berlinetta' 'California T' '488'\n",
      " '488 GTB' '488 Spider' 'Spyder' 'LaFerrari' 'Portofino' '488 Pista' '599'\n",
      " 'F355' 'Murcielago' 'Aventador' 'Huracan' 'Gallardo' 'Urus' 'GTO'\n",
      " 'Hummer' '1500' 'E450' 'Econoline' '450' 'Pursuit' 'ATS Coupe' 'Allante'\n",
      " 'Krystal Koach' 'Gl1800al' 'Allure' 'EL' 'CSX' 'Micra' 'B9 Tribeca'\n",
      " 'QX56' 'FE' 'City Golf' 'Lancer Sportback' 'FR-S' 'Mazda5' 'RX-7' 'AN650'\n",
      " 'VZ1500' 'Optra5' 'Optra' 'Optra Wagon' 'Wave' 'G3 Wave' 'Kona EV'\n",
      " 'Forte 5-Door' 'K900' 'I-PACE' 'Arnage' 'DBS Superleggera' 'TT Roadster'\n",
      " '3-Series' '7-Series' 'B250' 'Sprinter' 'Fortwo' 'RS5' 'R8'\n",
      " 'Passat Wagon' 'California' 'GTC4Lusso' 'Mondial' '512 TR' '328'\n",
      " 'F-450 Super Duty Chassis Cab' 'Transit Chassis Cab'\n",
      " 'F-350 Super Duty Chassis Cab' 'Excursion' 'Silverado 3500 Chassis Cab'\n",
      " 'Savana Cutaway' 'Sierra 2500 Denali HD' 'Sierra Classic 2500HD' '3500'\n",
      " 'ProMaster Cab Chassis' 'Ram Pickup 3500' 'Bolt EV' 'Mustang Mach-E'\n",
      " 'Model Y' 'i-MiEV' 'Spark' 'e-tron Sportback' 'Aspen' 'Five Hundred'\n",
      " 'E-Series Cutaway' 'Freestyle' 'Taurus X' 'Malibu Maxx' 'Bonneville'\n",
      " 'Solstice' 'Grand Am' 'LeSabre' 'L-Series' 'Silverado 1500HD'\n",
      " 'Silhouette' 'Envoy XL' 'Safari Cargo' 'Sierra 1500HD'\n",
      " 'Sierra Classic 3500' 'XT6' 'Commander' 'Breeze' 'Prowler' '626' '300M'\n",
      " 'Concorde' 'Torrent' 'Magnum' 'Flex' 'Sierra 1500 Limited' 'Bronco Sport'\n",
      " 'Yaris iA' 'City Express' 'NV' 'Galant' 'Mariner' 'Rainier' 'Terraza'\n",
      " 'Outlook' 'Mark LT' 'Sequoia' 'Telluride' 'G8' 'Del Sol' 'Protege5'\n",
      " 'Sidekick' 'MR2 Spyder' 'iQ' 'Encore GX' 'Trailblazer' 'Palisade'\n",
      " 'Envision' 'Ecosport' 'EcoSport' 'E-Pace' 'XJS' 'Freelander' 'Exige'\n",
      " 'Regal Sportback' 'Regal TourX' 'Cascada' 'C-Class Cabriolet'\n",
      " 'A6 Allroad' '8 Series' '300-Class' '500-Class' 'Ghibli' '500X'\n",
      " '458 Speciale A' '458 Italia' 'F8' 'Venture Cargo' 'Captiva Sport'\n",
      " 'CTS-V Sedan' 'ATS-V Coupe' 'ATS-V Sedan' 'CTS-V Coupe' 'XLR' 'XT4'\n",
      " 'Ram SRT-10' 'QX55' 'GLE Coupe' 'X7' 'X6 M' 'X3 M' 'X4 M' 'SS' 'Legend'\n",
      " 'S2000' 'GT-R' '370Z Roadster' 'Q40' 'G35 Sport Coupe' 'Q60 Convertible'\n",
      " 'Murano CrossCabriolet' 'FX45' 'Q45' 'G35 Coupe' 'I35' 'I30' 'LC' 'SC'\n",
      " 'Stinger' 'Amanti' 'XK Series' '675LT' '570S' '570GT' '600LT' 'Ghost'\n",
      " 'Wraith' 'Dawn' 'Mulsanne' 'Azure' 'DBS' 'DB9' 'V8 Vantage'\n",
      " 'V8 Vantage Roadster' 'V8 Vantage Roadster SPORTSHIFT' 'Rapide' 'DB11'\n",
      " 'Vantage' 'DBX' 'Bentayga' 'Cullinan' 'TTS Coupe' 'AMG GT 4-Door Coupe'\n",
      " 'SQ8' 'Allroad quattro' 'A5 Cabriolet' 'A3 Cabriolet' 'S8' 'S5 Sportback'\n",
      " 'S5 Coupe' '6 Series Gran Coupe' '6 Series Coupe' '6 Series Gran Turismo'\n",
      " 'M2 Coupe' 'M3 Sedan' 'M4 Coupe' 'M4 Convertible' 'M Series' 'M5 Sedan'\n",
      " 'M8 Gran Coupe' 'M6 Convertible' 'X2 M' 'CLK-Class' 'Maybach'\n",
      " 'SLR McLaren' 'AMG? GT' 'AMG? GT Coupe' 'Paceman' 'Cayenne Coupé' 'RS Q8'\n",
      " 'RS 6 Avant' 'TT RS' 'RS 3' 'Phaeton' 'C70' 'Gransport' 'GranSport' '4C'\n",
      " 'Stelvio' '458 Spider' 'FF' '458 Speciale' '812' '612' '575M Maranello'\n",
      " '550 Maranello' 'F430' 'Levante' 'Altima Hybrid' 'Revero' 'Clarity'\n",
      " 'CR-Z' 'NX Hybrid' 'Sonata Plug-in Hybrid']\n",
      "Unique values in 'body_type': ['Coupe' 'Sedan' 'Convertible' 'Pickup' 'SUV' 'Hatchback' 'Targa'\n",
      " 'Passenger Van' 'Cargo Van' 'Chassis Cab' 'Minivan' 'Mini Mpv'\n",
      " 'Crossover' 'Wagon' nan 'Cutaway' 'Van' 'Combi' 'Micro Car'\n",
      " 'Commercial Wagon' 'Car Van' 'Roadster']\n",
      "Unique values in 'vehicle_type': ['Car' 'Truck' nan]\n",
      "Unique values in 'drivetrain': ['4WD' 'FWD' 'RWD' nan]\n",
      "Unique values in 'transmission': ['Automatic' 'Manual' nan]\n",
      "Unique values in 'fuel_type': ['Electric / Premium Unleaded' 'E85' 'E85 / Unleaded; Unleaded'\n",
      " 'Unleaded / E85' 'Unleaded / Unleaded'\n",
      " 'E85 / Unleaded; Unleaded / Unleaded' 'Premium Unleaded; Unleaded'\n",
      " 'Premium Unleaded / Unleaded' 'Compressed Natural Gas / Lpg'\n",
      " 'Compressed Natural Gas / Unleaded' 'Biodiesel' 'E85 / Premium Unleaded'\n",
      " 'Electric / E85' 'Compressed Natural Gas'\n",
      " 'Compressed Natural Gas; Unleaded' 'Unleaded / Premium Unleaded'\n",
      " 'Unleaded / Electric' 'Electric / Hydrogen'\n",
      " 'Premium Unleaded / Natural Gas' 'Diesel / Premium Unleaded' nan 'Diesel'\n",
      " 'Electric' 'Unleaded' 'E85 / Unleaded' 'Premium Unleaded'\n",
      " 'Electric / Unleaded']\n",
      "Unique values in 'engine_block': ['V' 'I' nan 'H']\n"
     ]
    }
   ],
   "source": [
    "for column in cat:\n",
    "    unique_values = df[column].unique()\n",
    "    print(f\"Unique values in '{column}': {unique_values}\")"
   ]
  },
  {
   "cell_type": "code",
   "execution_count": 10,
   "id": "5e0b5235-aa80-4248-ba84-b4b03cec25dd",
   "metadata": {},
   "outputs": [
    {
     "name": "stdout",
     "output_type": "stream",
     "text": [
      "['Base', 'SXT', 'S', 'Tradesman', 'SLT', 'Sport', 'XLT', 'EDDIE BAUER', 'Eddie Bauer', 'Lariat', 'King Ranch', 'Platinum', 'XL', '60th Anniversary', 'FX4', '1LT', 'LT', 'Premier', 'Z06', 'Preferred', 'Leather', 'Essence', 'ETC', 'STS', 'LS', 'LTZ', 'Work Truck', 'SLE', 'Denali', 'Denali Hybrid', 'Luxury', 'Platinum Edition', 'Hybrid', 'Platinum Hybrid', 'LE', 'SRT', 'SRT8', 'Z28', '2HY', 'Custom', 'SLE-1', 'SLE-2', 'SLT-1', 'SLT-2', '450h', '400h', 'F SPORT', '450h F SPORT', 'SE', 'Outdoorsman', 'ST', '330e', 'SEL', 'GLE450', 'AMG GLE43', 'GLS450', 'GL450', 'GLS580', 'AMG GLS63', 'Avalon', 'Alpha Edition', 'SUT', 'SUV', 'Alpha', 'Grand Touring', 'xDrive40e', '30e', 'Polestar', 'R-Design', 'Type-S', 'Advance Package', 'S Hybrid', 'Hybrid LUXE', 'Hybrid Premium', '350', 'Mirai', 'Limited Hybrid', '600h', '450hL', 'Inscription', 'HSE', 'First Edition', 'X-Dynamic HSE', 'Supercharged', 'Autobiography', 'Dynamic', 'HST', 'SVR', 'Speed', 'Supersports', 'CLS53', '53', 'E450', 'Premium', 'Prestige', 'Pretige', 'Premium Plus', 'QUATTRO', '530e', 'ActiveHybrid 5', '745e', '740e', '323I', 'Giga World', 'Mega World', 'Tera World', 'Pure Impulse World', 's', 'C230 Sport', 'AMG E53', 'CLS450', 'C300 Luxury', 'C300 Sport', 'E350', 'E300', 'S350', 'S400', 'AMG E43', 'S E PHEV', 'S E-Hybrid', '4 E-Hybrid', 'Turbo S E-Hybrid', 'Spyder', 'E-Hybrid', 'TDI', 'Momentum', 'Inscription Expression', 'SRT Hellcat', nan, 'Diesel', 'SEDAN', '2', 'FWD', 'Elite', 'V6', 'SH', '3.5L', 'Touring', 'Hybrid Touring', 'SRT-10', 'SX', '2.0', 'Laramie', 'Daytona', '4', 'LX', 'Unlimited', 'Overland', 'North', 'North Edition', '75th Anniversary', 'High Altitude', 'High Altitude Edition', '4X4', 'Sport AWD', 'Sport Altitude', 'Altitude', '75th Anniversary Edition', 'Sunroof', 'High Country', 'Cloth', 'Select', 'Upland', '3.2', 'V6 Sport', 'Heat', 'Limited', 'Trailhawk', 'GT', 'Crew', 'Rebel', 'Super', 'F', 'SHO', 'WAGON', 'Commercial', '450', 'VAN', 'Cargo', 'E', 'Standard', 'P', 'EcoBoost', 'Black Edition', 'Fleet', 'eL', 'LTD', 'Coupe', '1SA', '1SB', '1LS', '2LS', 'A/C', 'SD', 'Turbo', 'HATCHBACK', 'CONVERTIBLE', 'Ls', '1FL', '4-Door', 'CX', 'CXL', 'Convenience', 'One', 'Convenience FWD', 'DE', 'SL2', 'SS', '1', 'C', 'SLS', '1SC', 'LT2', 'LS AWD', 'SPECIAL', '2LT', 'SL', 'Elevation', 'Harley-Davidson', 'TRX', 'EX', 'EX V6', 'TOURING COUPE', 'EX-L', 'Hybrid CVT', 'DX', 'Special Edition', 'Laredo', 'SV', '5', '35', '2.0T', '3.6', '3', '+', 'AT', 'Winter', 'R', 'R-Line', 'TDI SE', 'HIGHLINE', 'Passat', 'WOLFSBURG', 'Wolfsburg Edition', 'Advanced', 'GS', 'GS AT', 'HOT', 'Performance', 'SVT', 'Police Sedan', 'LXI', 'Touring-L Plus', 'Touring L Plus', 'L', 'VALUE', 'Plus', 'CR', 'Journey', 'N', 'ST-Line', 'SES', 'Works', 'Premium I', 'Premium 1', 'Premium AWD', 'CXS', 'WT', 'Si', '400', 'i', 'LX A', '200', 'CVT', 'Touring Edition', 'Blue', '300', 'eX', 'Design', 'T', 'EX-T', 'GLS', 'Technology Package', 'Technology', 'SE AWD', 'SE 4wd', 'Touring AWD', 'Touring Sport', 's Touring', 'LX Sport', 'Eco', 'LX AWD', 'LX 4X4', 'PROTECTION', 'V', 'SP', 'Livery', 'XRS', 'LE AWD', 'Easy', 'LE Hybrid', 'LIMITED AWD', 'Hybrid Limited', 'XLE', 'XLE Premium', 'MV', 'Pop', '7-Passenger', 'SXT Sport', 'R/T', 'RT', 'GT V6', 'GT Sport', 'R/T SPORT', 'Energi SEL', 'SLX', 'Performance Collection', 'Premium Collection', 'Essential', 'GL', 'Ultimate', 'GX', 'CE', '50th Anniversary Edition', 'SR', '1.8 S', 'ULTRA', 'Appearance', 'TSI', '1.8', '1.8T', 'Turbo Diesel', 'Jetta', 'Comfort', 'Reserve', 'Hatchback', 'Dune', 'SE Limited Edition', 'XLS', 'SE V6', 'Brabus', 'R350', 'ML350', 'GLE', 'GLE400', 'ML550', 'Sport Package', '2.5i', '2.5', '2.5i Premium', '2.5i Limited', 'Touring Package', '2.5i Sport', 'Premium 2', '3.6R Limited', 'Tech Package', 'Sport Technology', '3.6R', 'Premier Plus', 'Electric', '2.0I Limited', 'Sport Tech', '3.0R', 'Convenience Pkg', '3.6R Premium', 'OUTBACK', 'Touring AT', 'i Touring', 'OUTBACK LIMITED', 'Navigation System', 'XT', '2.4i', 'Hybrid SE', 'XLE Hybrid', 'LE V6', 'ROADSTER', 'C300', '300h', 'EX-L w/Navigation', '3.5', 'FE', 'Preferred AWD', 'Luxury Sport', '56', 'SR5', 'X-Runner', 'EX Leather', 'LX V6', '50', 'LX PLUS', '2.4', 'SX Turbo', 'Executive', 'LE Plus', 'Premiere', 'M5', 'GTS', 'SportBack', 'Ralliart', 'ES', 'SE 2WD', 'ES AWD', 'AWD A', 'Limited Edition', 'Four', 'Anniversary Edition', 'LS V6', 'LS 4WD', 'XLS 4WD', 'SE Sport', 'Touring V6', 'WRX', '2.0I', '2.0I Premium', 'WRX STI', 'X', 'WRX Sport', 'WRX STI Limited', '2.5X', 'X Touring', 'X Limited', '2.5X Limited', '2.5XT Limited', 'I Limited', 'XT Limited', 'XT Touring', 'I4', 'EX 4X4', 's Grand Touring', 'Sport GT', 'Mazdaspeed', 'Sport Touring', '50th Anniversary', 'Trail', 'GSX', 'JX', '60', 'JLX', 'RS', 'SR5 V6', 'XSE', 'Plug-in Hybrid', 'EV', 'GLS SEDAN', 'TS', 'GT Limited', 'EX A', 'EX Premium', 'FX', 'LUXE', 'Plug-In', '10th Anniversary', 'SXL', '250', 'T6', 'LWB', 'R-Dynamic SE', 'R-Sport', 'Vanden Plas', 'XJ6', '3.0', 'Premium Luxury', 'Portfolio', 'XJR', '5.0', 'XJR575', 'XKR', 'Type S', 'V8', 'R-Dynamic', 'R-Dynamic HSE', 'HSE Luxury', 'HSE Dynamic', 'R-Dynamic S', 'PRO', 'Launch Edition', 'Type-R', 'TYPE R', 'XE', 'Komfort', 'Carbon', '3.0L', 'S-line', 'Progressive', '45', 'S Line', 'Turbo Premium', '63', 'Adventure', '320i', '750i', '325i', '328IS', 'M6', '28i', 'xDrive28i', '3.0i', '3.0si', '2.8', 'CA', 'CL600', '.3', 'SL500', 'E320', 'S430', 'SL550', '63 S', '500', 'C 230', 'E 300', 'S450', 'S550', 'Night', 'S560', 'E400', 'PURE', 'passion', 'Carrera', 'CARRERA 4', '4.2', 'GP', '75', 'T5', 'T6 Dynamic', 'T6 Premier Plus', 'T6 Inscription', 'VT', 'Sport GT S', 'BERLINETTA', 'Spider', 'GTC4Lusso', 'Performante', 'Superveloce', 'EVO', 'LP560-4', 'LP550-2', '9-Spd AT Sh-Awd', 'Sport S', 'Sahara', 'LEATHER', 'Big Horn', 'Police AWD', '2LT Manual', 'LS Auto', 'Base FWD', 'EX-L V6', 'Touring Sedan AT', 'EX-L Coupe', 'DX Sedan AT', 'Highline', 'Grand Caravan', 'Police Interceptor', 'Allure', 'DX Sedan', 'LX Sedan', 'LX Sedan 5-Speed AT', 'Dx-G Sedan 5-Spd MT', 'Dx-G Sedan 5-Speed AT', 'DX Sedan 5-Speed MT', 'LX Sedan 5-Speed MT', 'LX Sedan CVT', 'Civic', 'DX Coupe', 'DX Coupe AT', 'DX Coupe 5-Speed AT', 'LX Coupe 5-Speed MT', 'LX Coupe 5-Speed AT', '1.7l Premium', 'I-Tech', 'L 5-Speed MT', 'SXT Plus', '6A', 'S AT', 'TDI S 6M', 'SEL 6A', 'GLX', 'GT Spyder', '4WD', 'Premium+m/R+cwp', '3.6r Premium', 'i Sport', 'Outback', 'Work', 'GLS XM', 'City', 'AWD', '2.5i 4-Door', '2.5i 5-door', '2.0i Premium Pzev 4-Door', 'Limited+moonroof+navi', 'STI 4-Door', 'STI', 'sport', '5-Speed AT', 'S Grand Touring 5-Door', 'S Touring 5-Door', 'I Touring AT 5-Door', 'SV MT 4-Door', 'I Touring AT 4-Door', 'Touring/Gs', 'Grand Touring/Gt', 'Liftback S 5-Door AT', 'A/T', 'Automatic', 'EX Turbo', '5-Speed MT', 'Cargo Van XL LWB', 'XJ', 'XKR Convertible', 'XKR Coupe', '3.0 Sedan', 'Luxury Edition', 'XJ AWD', 'XJL Portfolio AWD', 'S Coupe AWD', 'R Coupe AWD', 'R Convertible AWD', 'SVR Coupe', 'XR 3-Door', '4.0T Prestige Quattro Tiptronic', '3.0T Premium quattro', '2.0t Premium Cabriolet Quattro S Tronic', '1.8t Premium FWD S Tronic', '2.0t Premium Sedan Quattro Manual', '2.0T Sedan Quattro Tiptronic', '2.0t Premium Sedan Quattro S Tronic', 'Premium Plus Quattro 7A', '2.0t Progressiv Quattro Sedan', 'Sedan', 'Sedan Quattro', '2.0t Sedan Quattro Technik', '2.0t Premium Plus Quattro Sedan AWD 8A', 'Sedan Quattro S Tronic', 'Coupe 2.0T Quattro Tiptronic', '3.0T Coupe Quattro Tiptronic', '4.2 Coupe Quattro Manual', '3.0T Quattro Tiptronic', '3.0T quattro', 'Progressiv Technik S-Line Quattro', '2.0T Premium', '2.0T Premium S Tronic', '3.0T Prestige quattro', '2.0t Premium Manual', '3.0t Coupe Quattro Manual', 'Coupe 2.0T Quattro Manual', 'Cabriolet 2.0T Quattro Tiptronic', '320i Sedan', '750i xDrive', '318I', '733i Automatic', '323i', 'Cargo Van', 'E280 4matic', 'B200', 'C230 4matic', 'C250 4-Matic', 'E350 4MATIC Sedan', 'B250', 'B250 Electric 4matic', 'S450 4matic', 'S550 4-MATIC', 'S550 4MATIC', 'S63 AMG', '4.2 Cabriolet Quattro S Tronic', 'Ti', 'SPECIAL EDITION', 'Eos', '2.5L 4-Door', 'CC', 'Lux', 'Executive GT', 'LP610-4 Coupe', 'Lp610-4 Spyder', 'LP560-4 Coupe', 'Willys', 'Rubicon', 'Summit', 'Overland Summit', 'Lone Star', 'Longhorn', 'Laramie Limited', 'Laramie Longhorn', 'LARIAT', 'LT3', 'Z71', 'ZR2', 'RST', 'Work Van', 'Sierra', 'AT4', 'SLE1', 'SLE2', 'All Terrain', 'LAREDO', 'Pro-4X', 'Platinum Reserve', '2.0l TDI SE MT', 'SEL Premium', 'Big Horn/Lone Star', 'Power Wagon', 'TDI S', 'TDI w/Nav', '2.0l 4-Door TDI', 'TDI SEL', 'ML320', 'GL320', 'GL350', 'GLS350d', 'R320', 'xDrive35d', 'xDrive28d', 'Signature', 'HSE LUX', 'Silver Edition', '3.0t TDI Premium Plus Sedan Quattro', 'Progressiv', 'Premium quattro', '328d', '535d', '540d', '335d', '2500 144-in. WB', '2500 High Roof 170-in. WB EXT', '3500 High Roof 170-In. WB EXT', 'E320 BLUETEC', 'GLK250', 'E250', 'SV Plus', 'SL Plus', 'Battery Electric', 'Premium AWD First Edition', 'Long Range', 'Mid Range', '85', '90D', '100D', '75D', 'Long Range Plus', '85D', 'P100D', 'P90D', '70D', 'EV +', 'Electric Drive', '4S', 'Turbo S', 'e-Golf SE', 'e-Golf SEL Premium', 'Mainstreet', 'Uptown', 'SRT4', 'SPORT', 'WS', 'SLT+', 'JXI', 'Aero', 'Rallye', 'GTC', 'Willys Wheeler', 'Freedom Edition', 'Big Bear', 'Golden Eagle', 'Willys Wheeler W', 'Black Bear', 'Backcountry', 'Smoky Mountain', 'Chief', 'Rubicon Recon', 'Rubicon Hard Rock', 'RUBICON', 'ISLANDER', '80TH', 'Moab', 'Sahara Altitude', 'Tech Connect', 'Latitude', 'L Plus', 'Trailhawk L Plus', 'Trailhawk Elite', 'Latitude Lux', 'GT Plus', 'Citadel', 'Laredo X', 'Laredo E', 'LIMITED', 'Limited X', 'Limited Sterling Edition', '80th Edition', 'Anodized Platinum', 'Mojave', 'Express', 'Harvest', 'Warlock', 'Lone Star Silver', 'BASE', 'Big Horn (Lone Star)', 'EcoBoost Premium', 'Titanium', 'ZX3 SES', 'ZTW', 'ZX4 S', 'Street', 'ZX5 SE', 'ZX5 SES', 'ZTS', 'V6 Premium', 'Deluxe', 'GT Premium', 'SE Standard', 'ZX4 SE', 'ZX4 SES', 'Cobra Coupe', 'XLT Choice 2', 'XLT Choice', 'XLT Midnight', 'ED BAUER', 'XLT Popular', 'XLS Popular', 'XLT Popular 2', 'XLT Sport', 'Value', 'STX', 'SVT Raptor', 'Raptor', 'FX2', 'Edge Plus', 'Edge', 'XLT Appearance', 'Edge Deluxe', 'COMMERCIAL', 'FX4 Off-Road', 'SPLASH', 'Tremor', 'XLT FX4', 'XLT Off-Road', 'FX4 Level 2', '1LZ', 'LS Sport', 'ECO', '1VL', 'SE1', 'GTP', 'G6', 'GL2', 'GL1', '1SD', '1SV', '1SG', '1SL', '1SH', 'Avenir', 'Luxury Collection', 'DHS', 'DTS', 'SC1', 'L300', 'L200', 'Roadster', 'XR', 'Z85', 'base', 'Work Truck 1WT', '2500', 'LT1', 'Work Truck 2WT', 'LT Trail Boss', 'LT Z71', 'LTZ Z71', 'Z71 LTZ', 'STD', 'SLT1', 'SLT2', 'Trailblazer', '3LT', 'SL1', 'Elevation Standard', 'Z85 Fleet', 'Z85 SL', '3.0 EX', 'VP', 'EX LEATHER', 'EX-L V-6', '70th Anniversary', 'SAHARA', 'Renegade', 'Sport X', 'EXECUTIVE', 'SIGNATURE', 'CARTIER', 'GXE', '3.5 SR', 'SE-L', 'PRO-4X', 'SE w/Tech', 'SEL Premium R-Line', 'SEL R-Line', 'SE R-Line', 'Wolfsbug Edition', 's Sport', 'i Grand Touring', 'i SV', 'GT Deluxe', 'GT 180A', 'Limited Platinum', 'SE Plus', 'Daytona R/T', 'Signature Series', 'Executive Series', 'Glacier', 'C Platinum', 'Anniversary Package', 'C Varvatos Collection', 'Luxury Series', 'R/T Road/Track', 'R/T Plus', 'Touring-L', 'Touring L', 'Touring Plus', 'AWD LAUNCH EDITION', 'GXP', 'SEL Plus', 'SEL \"Plus\"', 'Z28 Coupe', 'FIREBIRD', 'Formula', 'GT1', 'Premium 1 4WD', 'CUSTOM', 'Platinum Collection', 'Professional', 'LS2', 'VALUE PACKAGE', 'LX-S', 'RTS', 'RTL', 'RTX', 'Base/Premiere', 'LE Eco', 'LE Eco Premium', 'VE', 'LE Special Edition', 'S Premium', '50th Anniversary Special Edition', 'S Plus', 'LE Premium', 'F Sport', '350 F SPORT', '330', 'Classic', 'Sun & Wheel', 'Sun & Safety', '80th Spec. Edition', 'American Value Package', 'CrossRoad', 'Crossroad', 'Crossroad Plus', 'CrossRoad Plus', 'Power Wagon Laramie', 'ST Line', 'ZX3', 'ZX5', 'Big Bend', 'Outer Banks', 'FWD CX', 'CX AWD', 'AWD CX', '3SB', 'LXS', 'LS AT POWER PKG', 'LS AT', '2.0 S', '2.0 SL', 'SE-R', '1.6 S', 'PreRunner', 'TRD Sport', 'TRD Off Road', 'SE 4Motion w/Sunroof & Nav.', 'SE R-LINE BLACK', 'SEL R-Line Jet Black', 'TSI S', 'TSI SEL', 'TSI SE', 'Value Edition', 'Coast', 'Autobahn', 'GTI', 'GLI S', 'GLI Autobahn', 'GLI 35th Anniversary Edition', 'SE w/Convenience', 'SE w/Conv. & Sunroof', 'Alltrack S', 'Alltrack SEL', 'Alltrack SE', 'SEL w/Sunroof', 'SEL w/Sport Pkg.', 'SPYDER GS', 'DS', 'I', 'I Special Edition', 'DQ', 'I Premium', '2.0i Premium', 'I Basic', 'BK', '3.0R Limited', 'Limited 5-Passenger', 'Limited 7-Passenger', 'CE V6', 'XLE V6', 'SE Nightshade', '1.9', '350 Ultra Luxury', 'Touring Elite', 'RTL-E', 'CXL-1', 'CXL-2', 'Adventure Edition', 'H3', 'H3 Alpha', '2.2L', 'EX-P', 'SC', 'Off Road', 'Off-Road', 'SL AWD', 'Sport 2.0T', '2.0T Ultimate', 'Calligraphy', 'N Line', 'XLE Limited', 'TRD Pro', 'Limited Premium', 'SE Premium', '1794 Edition', 'Tundra Grade', 'Tundra', '40i', 'M40i', 'GT-Line', 'LX AT', 'EX SPORT', 'X-LINE', 'OZ-Rally', 'ES-Sport', 'Se Awd', 'Abarth', 'Classica', 'Lusso', 'BL', 'Outback Sport', 'PA', '2.5 X', 'XS', 'S 4AT W/PREMIUM PKG', 'i Limited', '2.5 X Premium Package 4AT', '2.5 X Premium Package', 'SPECIAL ED', '3.0 LX', 'SI', 'HYBRID', 'SP Special Edition', 'Select AWD', 'Grand Touring Reserve', 'Carbon Edition', 'Grand Select', 'LX-SV', 'Grand Touring AWD', 'S Krom Edition', '37', 'Sport SLS', 'Popular', 'LE Anniversary', 'LE Popular', 'XSport', 'SPORT JLX', 'GT-S', 'V6 LIMITED', 'Trail Premium', 'Night Shade', 'SR5 Premium', 'TRD Off-Road Premium', 'Venture', 'LUXURY', 'Spec Package', 'Release Series 7.0', 'Release Series 8.0', 'Release Series 9.0', '10 Series', 'Release Series 10.0', 'Release Series 4.0', 'Release Series 3.0', 'Encore', 'Preferred II', 'Activ', 'SEL Premium HEV', 'Limited HEV', '3.8', 'GT N Line', 'TIBURON', 'R-Spec', 'Track', 'Denim', 'Rally Edition', 'Base AT', 'SE AT', 'Exclaim', 'GT-Line Turbo', 'SX Limited', 'RF', 'XLT Premium', 'Checkered Flag Edition', 'SE3', 'Landmark Edition', 'Pure', 'Pure Plus', 'Pure Premium', 'S 240', 'S240', 'AMG C43', 'S Line Premium Plus', 'S Line Prestige', 'Quattro', 'M850i', '318TI', '300SL', '500SL', 'GLC300', 'Carrera 2 Cabriolet', 'Turbo4', 'T5 Platinum', '3.2 Platinum', 'T6 R-Design', 'T6 Platinum', 'T6 R-Design Platinum', '3.2 Premier', 'Altitude Package', 'Trekking', 'Lounge', 'Trekking Plus', 'Tradesman SLT Cargo', 'S Special Edition', 'SSV', 'Adrenalin', '2LZ', 'CXL Premium', 'Comercial Fleet', 'Commercial Fleet', 'Signature Limited', 'Uptown Edition', 'SE 30th Anniversary', 'SXT 30th Anniversary', 'Premium 3', '2FL', 'ILX', 'Technology Plus', 'Technology & A-Spec Pack', 'Technology & A-Spec Pack RED', 'SH-AWD', 'A-SPEC Package', 'Technology & A-SPEC Packages', 'SRT10', 'SRT-6', 'ACR', 'SRT-8', 'Trackhawk', 'SRT 392', 'Shelby GT350', 'Bullitt', 'Mach 1', '50 Years Limited Edition', 'Shelby GT500', 'GT 170A', 'Lariat Limited', '1SS', '2SS', 'ZL1', '3ZR', 'ZR1', '427', 'GT1 Championship', 'Z51', 'Grand Sport', '3LZ', 'Competition Sport', 'Indy 500', 'SSEi', '1ST', 'V-Sport', 'V-Series', 'Red Line', 'Sport Platinum', 'LSE 5AT', 'Boss 302', 'R/T Classic', 'SRT8 Superbee', 'R/T Scat Pack', 'Scat Pack', 'T/A', 'Z/28', 'Trans Am', 'Technology & Entertainment Package', 'Sport and Entertainment Package', 'Advance and Entertainment Package', 'Ribelle', '330i', 'M340i', 'SE-R Spec V', 'SR Turbo', 'Nismo', 'Luxe', 'Autograph', 'Sensory', 'GLI', 'GLI SEL', 'Rabbit Edition', 'Sport Edition', 'R-Line SEL', 'ML 320', 'GLE350', 'AMG ML55', 'ML500', 'AMG GLE63', 'ML63 AMG', 'AMG ML63', 'GLS550', 'GL550', 'R500', 'ML400', 'AMG GLE53', 'AMG GLE63 S', 'AMG GL63', 'AMG® GLS63', 'AMG GLE450', 'GLE43 AMG', 'GLE 63 S AMGA', 'GT Spec.B', '5-Passenger', '4.8i', 'C300 4MATIC', 'AMG C450', 'C450 AMG', 'AMG® C43', 'C450 AMG®', 'C400', 'C63 AMG', 'AMG C63', 'AMG C63 S', 'AcuraWatch Plus Package', 'Technology & AcuraWatch Plus Package', 'A-Spec Package', 'Technology & A-Spec Package', 'SIGNATURE EDITION', 'M', '30i', '50i', 'M50i', 'xDrive30i', 'xDrive35i Premium', '4.8is', '4.4i', 'xDrive48i', '35i', 'xDrive35i', 'xDrive50i', 'xDrive35i Sport Activity', 'VR6', 'Evolution MR', 'Evolution GSR', 'Evolution FE', 'WRX Limited', 'WRX Premium', 'Series.HyperBlue', 'tS', 'Monogram', '860 Special Edition', 'Release Series 2.0', 'TRD SE', '2.5 XT Limited', 'CMBS', 'Mazdaspeed3 Touring', 'Mazdaspeed3 Sport', '- MT', 'R3', 'Touring Hard Top', 'Club Hard Top', 'Grand Touring Hard Top', 'Club', '30th Anniversary', 'Track Edition', 'NISMO', 'Enthusiast', 'NISMO Tech', '35 Journey', 'SENSORY', '3.7', '37x', '37 Sport', 'IPL', '25 Journey', '25x', 'Signature Edition', 'Red Sport', 'RED SPORT', '37 Limited Edition', 'NISMO RS', '35 Sport', '37 Journey', '45 Sport', '430', '200t', '460', '300 F SPORT', '470', '570', '300 Luxury', '4.6', '5.0 R-Spec', 'Advanced+', 'GT2', 'Premium II', 'Checkered Flag', '300 Sport', 'Portfolio Limited Edition', 'SV Project 8', '300 Sport Limited Edition', '400 SPORT', 'Checkered Flag Limited Edition', 'AJ V6', 'XJ8', 'Convertible', 'Project 7', 'Landmark', 'HSE Luxury Dynamic', 'Westminster', 'S R Dynamic', 'Drophead Coupe', '2+2', 'AMR', 'ESSENTIAL', 'A220', 'CLA250', 'SL450', 'AMG S63', 'E350 Sport', 'AMG E63', 'AMG GLC43', 'GLK350', 'AMG GLC63', 'GLB250', 'GLA250', 'AMG GLA45', 'AMG G63', 'S line Prestige', 'SE Premium Plus', 'Premium Plus quattro', 'Prestige quattro', 'M235i', 'M440i', '530i', 'M550i', '228i', '128i', '135is', 'M235i xDrive', '230i', 'M240i', '328i', '335i', '328xi', '325', '328i xDrive', '325xi', '335xi', '340i', '428i', '435i', '440i', '430i', '528i', '535i', '650i', '640i', '540i', 'ALPINA B7', '750Li', 'M760i', '318IS', '540IA', '525i', '335is', '850CI', '645Ci', '330xi', '550i', '535xi', '745i', '745Li', 'Alpina B7', 'sDrive28i', 'sDrive35is', 'sDrive30i', 'sDrive35i', '545i', '525xi', '530xi', '528xi', '135i', '528i xDrive', '740Li', 'M3', 'M8', 'SL600', 'C230 Kompressor', 'C280', 'E 320', 'E320 4Matic', 'SLK230 Kompressor', 'SLK320', 'CLK320', 'CLK430', 'CLK55', 'AMG S55', 'S500', 'S600', 'CL 500', 'CL500', 'CL65', 'C280 Luxury', 'C240', 'C320', 'C240 4Matic', 'C320 4Matic', 'C350 Luxury', 'C320 Sport', 'SL63 AMG', 'AMG SL55', 'AMG SL63', 'SL 500', 'SL65 AMG', 'AMG SL65', 'CLK350', 'CLK 320', 'CLK500', 'CLK550', 'E500', 'E500 4Matic', 'E350 Luxury', 'E550', 'SLK250', 'SLK280', 'SLK300', 'SLK350', 'AMG SLK32', 'G550', 'AMG G55', 'G63 AMG', 'AMG G65', 'G 500', 'G500', 'G55 AMG', 'CLS550', 'CLS500', 'CLS63 AMG', 'AMG CLS63', 'CL550', 'CL63', 'C250 Sport', 'C250 Luxury', 'C350 Sport', 'C250', 'C63 AMG®', 'E63 AMG', 'E550 Luxury', 'E550 Sport', 'CLS400', 'CLS550 4MATIC', 'SLC300', 'AMG® SLC43', 'AMG SLC43', 'SLK55 AMG', 'AMG SLK55', 'FINAL EDITION', 'AMG CLA45', 'CLA45 AMG', 'GLA45 AMG', 'S580', 'AMG S65', 'Maybach', 'AMGA S 63', 'AMG S 63', 'S 560', 'AMG® S63', 'R PRO', 'AMGA E63', 'AMG® E63', 'pure', 'prime', 'John Cooper Works', 'JCW', 'Oxford Edition', 'Countryman', 'Countryman S', 'Countryman S 4WD', 'CARRERA 4S', 'CARRERA', 'Carrera 4S', '10 Year Edition', 'Carrera S', 'Club Coupe', 'TURBO', 'Carrera GTS', 'GT3', 'GT4', 'GT2 RS', 'GT3 RS', 'Targa 4', 'Targa', 'Targa S', 'Targa 4S', 'RS60', 'Speedster', '25quattro Special Edition', 'SEL w/Premium Nav.', 'SEL 4Motion w/Premium Nav & Dynaudio', 'Trend', 'VR6 4Motion Executive', 'VR6 4Motion', \"Driver's Edition\", 'Luxury Limited', 'Luxury Plus', 'R32', 'R-Line Executive', 'A91 Edition', 'Arc', 'Linear', 'T5 Premier', 'T5 Premier Plus', 'T5 Dynamic', 'R-Design Platinum', 'GLT SE', '2.5T', '2.4T', 'T5 M', '2.4M', 'XC', '2.5T AWD A', 'T6 A SR', '2.9 A', 'T6 R-Design Premier Plus', 'XC A', '3.2 Premier Plus', 'Justice Special Edition', 'MC', 'S GranLusso', 'S GranSport', 'Cambiocorsa', 'GranSport', 'Quadrifoglio', 'Ti Sport', 'Pista', 'Scuderia', 'SPIDER', 'Superleggera', 'GranLusso', 'Trofeo', 'Hybrid Technology', 'Rubicon 4XE', 'TITANIUM', '2SA', 'Green Line', 'HEV', '3HB', 'SE Hybrid', 'SE Luxury', 'Reserve I', 'GLE550e', 'B1', 'Hybrid CVT PZEV', 'Hybrid CVT SULEV', 'Three Touring', 'Two', 'L Eco', 'II', 'Three', 'IV', 'Persona Series', 'Five', 'III', 'LE AWD-e', 'XLE AWD-e', '250h LUXURY', '250h', '250h F SPORT', '300h Luxury', '300h F Sport Black Line AWD', 'Plug-in Hybrid Limited', 'LX Hybrid', 'EX Hybrid', 'EX Plug-In Hybrid', 'Touring SE', 'EX Premium PHEV', 'EX PHEV', 'S Touring', 'S560e', 'GLC350e']\n"
     ]
    }
   ],
   "source": [
    "# Assuming df is your DataFrame\n",
    "unique_trims = df[\"trim\"].unique()\n",
    "\n",
    "# Convert the array to a list to display all elements without truncation\n",
    "unique_trims_list = unique_trims.tolist()\n",
    "\n",
    "# Print all unique trims\n",
    "print(unique_trims_list)"
   ]
  },
  {
   "cell_type": "code",
   "execution_count": 26,
   "id": "8c3cf96b-26f7-437a-b2d4-06f1cb3c518d",
   "metadata": {},
   "outputs": [
    {
     "data": {
      "text/plain": [
       "(393603, 14)"
      ]
     },
     "execution_count": 26,
     "metadata": {},
     "output_type": "execute_result"
    }
   ],
   "source": [
    "cols_to_drop = ['id', 'vin', 'stock_no', 'street', 'zip', 'seller_name', 'city']\n",
    "df = df.drop(cols_to_drop, axis=1)\n",
    "\n",
    "df.shape"
   ]
  },
  {
   "cell_type": "code",
   "execution_count": 27,
   "id": "a9a3846d",
   "metadata": {},
   "outputs": [
    {
     "data": {
      "text/plain": [
       "price           35117\n",
       "miles           27013\n",
       "year               17\n",
       "make                0\n",
       "model            4794\n",
       "trim            38779\n",
       "body_type       34025\n",
       "vehicle_type    38238\n",
       "drivetrain      38995\n",
       "transmission    35681\n",
       "fuel_type       70813\n",
       "engine_size     72653\n",
       "engine_block    73164\n",
       "state            7836\n",
       "dtype: int64"
      ]
     },
     "execution_count": 27,
     "metadata": {},
     "output_type": "execute_result"
    }
   ],
   "source": [
    "df.isna().sum()"
   ]
  },
  {
   "cell_type": "code",
   "execution_count": 28,
   "id": "3985833b",
   "metadata": {},
   "outputs": [
    {
     "data": {
      "text/plain": [
       "(393603, 14)"
      ]
     },
     "execution_count": 28,
     "metadata": {},
     "output_type": "execute_result"
    }
   ],
   "source": [
    "df.shape"
   ]
  },
  {
   "cell_type": "code",
   "execution_count": 29,
   "id": "0e0bf1e2",
   "metadata": {},
   "outputs": [
    {
     "data": {
      "text/plain": [
       "price           float64\n",
       "miles           float64\n",
       "year            float64\n",
       "make             object\n",
       "model            object\n",
       "trim             object\n",
       "body_type        object\n",
       "vehicle_type     object\n",
       "drivetrain       object\n",
       "transmission     object\n",
       "fuel_type        object\n",
       "engine_size     float64\n",
       "engine_block     object\n",
       "state            object\n",
       "dtype: object"
      ]
     },
     "execution_count": 29,
     "metadata": {},
     "output_type": "execute_result"
    }
   ],
   "source": [
    "df.dtypes"
   ]
  },
  {
   "cell_type": "code",
   "execution_count": 30,
   "id": "833c6def",
   "metadata": {},
   "outputs": [],
   "source": [
    "df = df.dropna(axis=0)"
   ]
  },
  {
   "cell_type": "code",
   "execution_count": 31,
   "id": "c7fb6333",
   "metadata": {},
   "outputs": [
    {
     "data": {
      "text/plain": [
       "price                  float64\n",
       "miles                  float64\n",
       "year                   float64\n",
       "make            string[python]\n",
       "model           string[python]\n",
       "trim                    object\n",
       "body_type       string[python]\n",
       "vehicle_type    string[python]\n",
       "drivetrain      string[python]\n",
       "transmission    string[python]\n",
       "fuel_type       string[python]\n",
       "engine_size            float64\n",
       "engine_block    string[python]\n",
       "state           string[python]\n",
       "dtype: object"
      ]
     },
     "execution_count": 31,
     "metadata": {},
     "output_type": "execute_result"
    }
   ],
   "source": [
    "df[['make', 'model', 'body_type', 'vehicle_type', 'drivetrain', 'transmission', 'fuel_type', 'engine_block', 'state']] = df[['make', 'model', 'body_type', 'vehicle_type', 'drivetrain', 'transmission', 'fuel_type', 'engine_block', 'state']].astype(\"string\")\n",
    "\n",
    "df.dtypes"
   ]
  },
  {
   "cell_type": "code",
   "execution_count": 32,
   "id": "e7631626",
   "metadata": {},
   "outputs": [
    {
     "data": {
      "text/plain": [
       "(269552, 14)"
      ]
     },
     "execution_count": 32,
     "metadata": {},
     "output_type": "execute_result"
    }
   ],
   "source": [
    "df.shape"
   ]
  },
  {
   "cell_type": "code",
   "execution_count": 33,
   "id": "75193213",
   "metadata": {},
   "outputs": [
    {
     "data": {
      "text/plain": [
       "price           0\n",
       "miles           0\n",
       "year            0\n",
       "make            0\n",
       "model           0\n",
       "trim            0\n",
       "body_type       0\n",
       "vehicle_type    0\n",
       "drivetrain      0\n",
       "transmission    0\n",
       "fuel_type       0\n",
       "engine_size     0\n",
       "engine_block    0\n",
       "state           0\n",
       "dtype: int64"
      ]
     },
     "execution_count": 33,
     "metadata": {},
     "output_type": "execute_result"
    }
   ],
   "source": [
    "df.isna().sum()"
   ]
  },
  {
   "cell_type": "code",
   "execution_count": 34,
   "id": "29702350",
   "metadata": {},
   "outputs": [
    {
     "data": {
      "text/html": [
       "<div>\n",
       "<style scoped>\n",
       "    .dataframe tbody tr th:only-of-type {\n",
       "        vertical-align: middle;\n",
       "    }\n",
       "\n",
       "    .dataframe tbody tr th {\n",
       "        vertical-align: top;\n",
       "    }\n",
       "\n",
       "    .dataframe thead th {\n",
       "        text-align: right;\n",
       "    }\n",
       "</style>\n",
       "<table border=\"1\" class=\"dataframe\">\n",
       "  <thead>\n",
       "    <tr style=\"text-align: right;\">\n",
       "      <th></th>\n",
       "      <th>price</th>\n",
       "      <th>miles</th>\n",
       "      <th>year</th>\n",
       "      <th>make</th>\n",
       "      <th>model</th>\n",
       "      <th>trim</th>\n",
       "      <th>body_type</th>\n",
       "      <th>vehicle_type</th>\n",
       "      <th>drivetrain</th>\n",
       "      <th>transmission</th>\n",
       "      <th>fuel_type</th>\n",
       "      <th>engine_size</th>\n",
       "      <th>engine_block</th>\n",
       "      <th>state</th>\n",
       "    </tr>\n",
       "  </thead>\n",
       "  <tbody>\n",
       "    <tr>\n",
       "      <th>0</th>\n",
       "      <td>179999.0</td>\n",
       "      <td>9966.0</td>\n",
       "      <td>2017.0</td>\n",
       "      <td>Acura</td>\n",
       "      <td>NSX</td>\n",
       "      <td>Base</td>\n",
       "      <td>Coupe</td>\n",
       "      <td>Car</td>\n",
       "      <td>4WD</td>\n",
       "      <td>Automatic</td>\n",
       "      <td>Electric / Premium Unleaded</td>\n",
       "      <td>3.5</td>\n",
       "      <td>V</td>\n",
       "      <td>NB</td>\n",
       "    </tr>\n",
       "    <tr>\n",
       "      <th>1</th>\n",
       "      <td>179995.0</td>\n",
       "      <td>5988.0</td>\n",
       "      <td>2017.0</td>\n",
       "      <td>Acura</td>\n",
       "      <td>NSX</td>\n",
       "      <td>Base</td>\n",
       "      <td>Coupe</td>\n",
       "      <td>Car</td>\n",
       "      <td>4WD</td>\n",
       "      <td>Automatic</td>\n",
       "      <td>Electric / Premium Unleaded</td>\n",
       "      <td>3.5</td>\n",
       "      <td>V</td>\n",
       "      <td>QC</td>\n",
       "    </tr>\n",
       "    <tr>\n",
       "      <th>2</th>\n",
       "      <td>168528.0</td>\n",
       "      <td>24242.0</td>\n",
       "      <td>2017.0</td>\n",
       "      <td>Acura</td>\n",
       "      <td>NSX</td>\n",
       "      <td>Base</td>\n",
       "      <td>Coupe</td>\n",
       "      <td>Car</td>\n",
       "      <td>4WD</td>\n",
       "      <td>Automatic</td>\n",
       "      <td>Electric / Premium Unleaded</td>\n",
       "      <td>3.5</td>\n",
       "      <td>V</td>\n",
       "      <td>BC</td>\n",
       "    </tr>\n",
       "    <tr>\n",
       "      <th>3</th>\n",
       "      <td>220000.0</td>\n",
       "      <td>6637.0</td>\n",
       "      <td>2020.0</td>\n",
       "      <td>Acura</td>\n",
       "      <td>NSX</td>\n",
       "      <td>Base</td>\n",
       "      <td>Coupe</td>\n",
       "      <td>Car</td>\n",
       "      <td>4WD</td>\n",
       "      <td>Automatic</td>\n",
       "      <td>Electric / Premium Unleaded</td>\n",
       "      <td>3.5</td>\n",
       "      <td>V</td>\n",
       "      <td>ON</td>\n",
       "    </tr>\n",
       "    <tr>\n",
       "      <th>4</th>\n",
       "      <td>220000.0</td>\n",
       "      <td>6637.0</td>\n",
       "      <td>2020.0</td>\n",
       "      <td>Acura</td>\n",
       "      <td>NSX</td>\n",
       "      <td>Base</td>\n",
       "      <td>Coupe</td>\n",
       "      <td>Car</td>\n",
       "      <td>4WD</td>\n",
       "      <td>Automatic</td>\n",
       "      <td>Electric / Premium Unleaded</td>\n",
       "      <td>3.5</td>\n",
       "      <td>V</td>\n",
       "      <td>ON</td>\n",
       "    </tr>\n",
       "  </tbody>\n",
       "</table>\n",
       "</div>"
      ],
      "text/plain": [
       "      price    miles    year   make model  trim body_type vehicle_type  \\\n",
       "0  179999.0   9966.0  2017.0  Acura   NSX  Base     Coupe          Car   \n",
       "1  179995.0   5988.0  2017.0  Acura   NSX  Base     Coupe          Car   \n",
       "2  168528.0  24242.0  2017.0  Acura   NSX  Base     Coupe          Car   \n",
       "3  220000.0   6637.0  2020.0  Acura   NSX  Base     Coupe          Car   \n",
       "4  220000.0   6637.0  2020.0  Acura   NSX  Base     Coupe          Car   \n",
       "\n",
       "  drivetrain transmission                    fuel_type  engine_size  \\\n",
       "0        4WD    Automatic  Electric / Premium Unleaded          3.5   \n",
       "1        4WD    Automatic  Electric / Premium Unleaded          3.5   \n",
       "2        4WD    Automatic  Electric / Premium Unleaded          3.5   \n",
       "3        4WD    Automatic  Electric / Premium Unleaded          3.5   \n",
       "4        4WD    Automatic  Electric / Premium Unleaded          3.5   \n",
       "\n",
       "  engine_block state  \n",
       "0            V    NB  \n",
       "1            V    QC  \n",
       "2            V    BC  \n",
       "3            V    ON  \n",
       "4            V    ON  "
      ]
     },
     "execution_count": 34,
     "metadata": {},
     "output_type": "execute_result"
    }
   ],
   "source": [
    "df.head()"
   ]
  },
  {
   "cell_type": "code",
   "execution_count": 35,
   "id": "3299b20a",
   "metadata": {},
   "outputs": [
    {
     "data": {
      "text/plain": [
       "<StringArray>\n",
       "[        'Acura',         'Dodge',      'Chrysler',           'RAM',\n",
       "          'Ford',     'Chevrolet',         'Buick',      'Cadillac',\n",
       "           'GMC',         'Lexus',    'Volkswagen',           'BMW',\n",
       " 'Mercedes-Benz',        'Hummer',       'Lincoln',         'Volvo',\n",
       "      'INFINITI',        'Toyota',    'Land Rover',          'Audi',\n",
       "          'MINI',       'Porsche',      'Maserati',    'Am General',\n",
       "          'Jeep',        'Nissan',         'Mazda',        'Jaguar',\n",
       "         'Honda',       'Pontiac',    'Oldsmobile',        'Saturn',\n",
       "      'Plymouth',       'Mercury',        'Suzuki',           'Kia',\n",
       "       'Hyundai',         'Scion',    'Mitsubishi',        'Subaru',\n",
       "          'FIAT',       'GENESIS',         'Lotus',          'Saab',\n",
       "       'Ferrari',       'McLaren',   'Rolls-Royce',       'Bentley',\n",
       "  'Aston Martin',       'Maybach',         'smart',    'Alfa Romeo',\n",
       "   'Lamborghini',         'KARMA']\n",
       "Length: 54, dtype: string"
      ]
     },
     "execution_count": 35,
     "metadata": {},
     "output_type": "execute_result"
    }
   ],
   "source": [
    "df['make'].unique()"
   ]
  },
  {
   "cell_type": "code",
   "execution_count": 36,
   "id": "7b7d044f",
   "metadata": {},
   "outputs": [
    {
     "data": {
      "text/plain": [
       "array(['acura', 'dodge', 'chrysler', 'ram', 'ford', 'chevrolet', 'buick',\n",
       "       'cadillac', 'gmc', 'lexus', 'volkswagen', 'bmw', 'mercedes_benz',\n",
       "       'hummer', 'lincoln', 'volvo', 'infiniti', 'toyota', 'land_rover',\n",
       "       'audi', 'mini', 'porsche', 'maserati', 'am_general', 'jeep',\n",
       "       'nissan', 'mazda', 'jaguar', 'honda', 'pontiac', 'oldsmobile',\n",
       "       'saturn', 'plymouth', 'mercury', 'suzuki', 'kia', 'hyundai',\n",
       "       'scion', 'mitsubishi', 'subaru', 'fiat', 'genesis', 'lotus',\n",
       "       'saab', 'ferrari', 'mclaren', 'rolls_royce', 'bentley',\n",
       "       'aston_martin', 'maybach', 'smart', 'alfa_romeo', 'lamborghini',\n",
       "       'karma'], dtype=object)"
      ]
     },
     "execution_count": 36,
     "metadata": {},
     "output_type": "execute_result"
    }
   ],
   "source": [
    "df['make'] = df['make'].apply(lambda x : x.lower().replace(' ', '_').replace('-', '_'))\n",
    "\n",
    "df['make'].unique()"
   ]
  },
  {
   "cell_type": "code",
   "execution_count": 37,
   "id": "5473c6b6",
   "metadata": {},
   "outputs": [
    {
     "data": {
      "text/plain": [
       "array(['coupe', 'sedan', 'pickup', 'suv', 'convertible', 'hatchback',\n",
       "       'targa', 'passenger_van', 'cargo_van', 'chassis_cab', 'minivan',\n",
       "       'mini_mpv', 'crossover', 'wagon', 'cutaway', 'micro_car', 'combi',\n",
       "       'car_van', 'roadster', 'commercial_wagon'], dtype=object)"
      ]
     },
     "execution_count": 37,
     "metadata": {},
     "output_type": "execute_result"
    }
   ],
   "source": [
    "df['body_type'] = df['body_type'].apply(lambda x : x.lower().replace(' ', '_').replace('-', '_'))\n",
    "df['body_type'].unique()"
   ]
  },
  {
   "cell_type": "code",
   "execution_count": 38,
   "id": "ec15d3e3",
   "metadata": {},
   "outputs": [
    {
     "data": {
      "text/plain": [
       "<StringArray>\n",
       "['Car', 'Truck']\n",
       "Length: 2, dtype: string"
      ]
     },
     "execution_count": 38,
     "metadata": {},
     "output_type": "execute_result"
    }
   ],
   "source": [
    "df['vehicle_type'].unique()"
   ]
  },
  {
   "cell_type": "code",
   "execution_count": 39,
   "id": "a188df35",
   "metadata": {},
   "outputs": [
    {
     "data": {
      "text/plain": [
       "<StringArray>\n",
       "['4WD', 'FWD', 'RWD']\n",
       "Length: 3, dtype: string"
      ]
     },
     "execution_count": 39,
     "metadata": {},
     "output_type": "execute_result"
    }
   ],
   "source": [
    "df['drivetrain'].unique()"
   ]
  },
  {
   "cell_type": "code",
   "execution_count": 40,
   "id": "58e33c2d",
   "metadata": {},
   "outputs": [
    {
     "data": {
      "text/plain": [
       "<StringArray>\n",
       "['Automatic', 'Manual']\n",
       "Length: 2, dtype: string"
      ]
     },
     "execution_count": 40,
     "metadata": {},
     "output_type": "execute_result"
    }
   ],
   "source": [
    "df['transmission'].unique()"
   ]
  },
  {
   "cell_type": "code",
   "execution_count": 41,
   "id": "463de362",
   "metadata": {},
   "outputs": [
    {
     "data": {
      "text/plain": [
       "<StringArray>\n",
       "[        'Electric / Premium Unleaded',                                 'E85',\n",
       "            'E85 / Unleaded; Unleaded',                      'Unleaded / E85',\n",
       "                 'Unleaded / Unleaded', 'E85 / Unleaded; Unleaded / Unleaded',\n",
       "          'Premium Unleaded; Unleaded',         'Premium Unleaded / Unleaded',\n",
       "        'Compressed Natural Gas / Lpg',   'Compressed Natural Gas / Unleaded',\n",
       "                           'Biodiesel',              'E85 / Premium Unleaded',\n",
       "                      'Electric / E85',              'Compressed Natural Gas',\n",
       "    'Compressed Natural Gas; Unleaded',                 'Unleaded / Electric',\n",
       "           'Diesel / Premium Unleaded',                              'Diesel',\n",
       "                            'Electric',                            'Unleaded',\n",
       "                      'E85 / Unleaded',                    'Premium Unleaded',\n",
       "                 'Electric / Unleaded']\n",
       "Length: 23, dtype: string"
      ]
     },
     "execution_count": 41,
     "metadata": {},
     "output_type": "execute_result"
    }
   ],
   "source": [
    "df['fuel_type'].unique()"
   ]
  },
  {
   "cell_type": "code",
   "execution_count": 42,
   "id": "892dfb96",
   "metadata": {},
   "outputs": [],
   "source": [
    "gasoline = {'gas', \n",
    "            'E85 / Unleaded',\n",
    "       'Unleaded', 'Premium Unleaded',\n",
    "       'Premium Unleaded; Unleaded', \n",
    "       'Unleaded; Unleaded / E85', 'Unleaded / E85',\n",
    "       'E85 / Unleaded; Unleaded', 'Premium Unleaded / Unleaded',\n",
    "       'E85 / Premium Unleaded; E85 / Unleaded', \n",
    "       'E85', 'E85 / Premium Unleaded', \n",
    "       'Compressed Natural Gas; Unleaded',\n",
    "       'E85 / Unleaded; Unleaded / Unleaded',\n",
    "       'Diesel / Premium Unleaded', 'E85 / Unleaded; Unleaded / E85',\n",
    "       'Unleaded / Unleaded', \n",
    "       'Compressed Natural Gas / Unleaded', 'Diesel; Unleaded',\n",
    "       'Diesel; E85 / Unleaded', 'E85 / Unleaded; Premium Unleaded',\n",
    "       'Premium Unleaded; Premium Unleaded / E85', 'E85; E85 / Unleaded',\n",
    "       'Unleaded / Premium Unleaded',\n",
    "       'Premium Unleaded / E85',\n",
    "       'M85 / Unleaded'\n",
    "}\n",
    "\n",
    "biodiesel = {\n",
    "    'Biodiesel'\n",
    "}\n",
    "\n",
    "hybrid = {\n",
    "       'Electric / Premium Unleaded', \n",
    "       'Electric / Unleaded',\n",
    "       'Unleaded / Electric',\n",
    "       'Electric / Hydrogen',\n",
    "       'Electric / Premium Unleaded; Electric / Unleaded',\n",
    "       'Electric / Premium Unleaded; Premium Unleaded',\n",
    "       'Electric / E85'\n",
    "}\n",
    "\n",
    "other = {\n",
    "    'Hydrogen', \n",
    "    'Premium Unleaded / Natural Gas',\n",
    "    'Compressed Natural Gas / Lpg', \n",
    "    'Compressed Natural Gas', 'Propane',\n",
    "    'Flex Fuel Vehicle',\n",
    "}\n",
    "\n",
    "def preprocess_fuel_type(x):\n",
    "    if x in gasoline:\n",
    "        return \"gasoline\"\n",
    "    elif x in biodiesel:\n",
    "        return \"biodiesel\"\n",
    "    elif x in hybrid:\n",
    "        return \"hyrid\"\n",
    "    else:\n",
    "        return \"other\"\n",
    "    \n",
    "df['fuel_type'] = df['fuel_type'].apply(preprocess_fuel_type)"
   ]
  },
  {
   "cell_type": "code",
   "execution_count": 43,
   "id": "6c34e78c",
   "metadata": {},
   "outputs": [
    {
     "data": {
      "text/plain": [
       "array(['hyrid', 'gasoline', 'other', 'biodiesel'], dtype=object)"
      ]
     },
     "execution_count": 43,
     "metadata": {},
     "output_type": "execute_result"
    }
   ],
   "source": [
    "df['fuel_type'].unique()"
   ]
  },
  {
   "cell_type": "code",
   "execution_count": 44,
   "id": "ec834cf8",
   "metadata": {},
   "outputs": [
    {
     "data": {
      "text/plain": [
       "array([3.5, 2.7, 3.6, 5.7, 4. , 5. , 5.4, 3. , 1.4, 1.5, 4.6, 6. , 6.6,\n",
       "       5.3, 6.2, 6.1, 2.4, 1.6, 2. , 3.3, 1.8, 2.5, 0.6, 2.9, 4.7, 6.5,\n",
       "       5.9, 3.2, 6.7, 6.4, 7.3, 2.8, 1.9, 2.2, 2.1, 5.2, 8. , 3.7, 2.3,\n",
       "       1. , 3.8, 3.9, 6.8, 4.2, 3.1, 3.4, 4.5, 4.8, 4.3, 8.1, 7.4, 1.7,\n",
       "       5.6, 1.3, 1.2, 4.4, 6.3, 8.3, 8.4, 7. , 5.8, 5.5, 2.6, 0.9])"
      ]
     },
     "execution_count": 44,
     "metadata": {},
     "output_type": "execute_result"
    }
   ],
   "source": [
    "df['engine_size'].unique()"
   ]
  },
  {
   "cell_type": "code",
   "execution_count": 45,
   "id": "67d98ff7",
   "metadata": {},
   "outputs": [
    {
     "data": {
      "text/plain": [
       "<StringArray>\n",
       "['V', 'I', 'H']\n",
       "Length: 3, dtype: string"
      ]
     },
     "execution_count": 45,
     "metadata": {},
     "output_type": "execute_result"
    }
   ],
   "source": [
    "df['engine_block'].unique()"
   ]
  },
  {
   "cell_type": "code",
   "execution_count": 46,
   "id": "9e34a55a",
   "metadata": {},
   "outputs": [
    {
     "data": {
      "text/plain": [
       "<StringArray>\n",
       "['NB', 'QC', 'BC', 'ON', 'AB', 'MB', 'SK', 'NS', 'PE', 'NL', 'YT', 'NC', 'OH',\n",
       " 'SC']\n",
       "Length: 14, dtype: string"
      ]
     },
     "execution_count": 46,
     "metadata": {},
     "output_type": "execute_result"
    }
   ],
   "source": [
    "df['state'].unique()"
   ]
  },
  {
   "cell_type": "code",
   "execution_count": 47,
   "id": "b2413af2",
   "metadata": {},
   "outputs": [],
   "source": [
    "unique_make_model = df.groupby(['make', 'model']).size().reset_index(name='count')\n",
    "\n",
    "non_unique_rows = unique_make_model[unique_make_model['count']>1]\n",
    "\n",
    "df_filtered = df.merge(non_unique_rows, on=['make', 'model'], how='inner').drop(['count'], axis=1)\n"
   ]
  },
  {
   "cell_type": "code",
   "execution_count": 48,
   "id": "7bd4e98b",
   "metadata": {},
   "outputs": [
    {
     "data": {
      "text/plain": [
       "(269493, 14)"
      ]
     },
     "execution_count": 48,
     "metadata": {},
     "output_type": "execute_result"
    }
   ],
   "source": [
    "df_filtered.shape"
   ]
  },
  {
   "cell_type": "code",
   "execution_count": 49,
   "id": "1a5157fb",
   "metadata": {},
   "outputs": [],
   "source": [
    "df_filtered.to_csv('data/used_car_canada_clean.csv', index=False, header=True)"
   ]
  },
  {
   "cell_type": "markdown",
   "id": "00c1066f",
   "metadata": {},
   "source": [
    "## Modeling "
   ]
  },
  {
   "cell_type": "code",
   "execution_count": 62,
   "id": "171d02e6",
   "metadata": {},
   "outputs": [
    {
     "data": {
      "text/html": [
       "<div>\n",
       "<style scoped>\n",
       "    .dataframe tbody tr th:only-of-type {\n",
       "        vertical-align: middle;\n",
       "    }\n",
       "\n",
       "    .dataframe tbody tr th {\n",
       "        vertical-align: top;\n",
       "    }\n",
       "\n",
       "    .dataframe thead th {\n",
       "        text-align: right;\n",
       "    }\n",
       "</style>\n",
       "<table border=\"1\" class=\"dataframe\">\n",
       "  <thead>\n",
       "    <tr style=\"text-align: right;\">\n",
       "      <th></th>\n",
       "      <th>price</th>\n",
       "      <th>miles</th>\n",
       "      <th>year</th>\n",
       "      <th>make</th>\n",
       "      <th>model</th>\n",
       "      <th>trim</th>\n",
       "      <th>body_type</th>\n",
       "      <th>vehicle_type</th>\n",
       "      <th>drivetrain</th>\n",
       "      <th>transmission</th>\n",
       "      <th>fuel_type</th>\n",
       "      <th>engine_size</th>\n",
       "      <th>engine_block</th>\n",
       "      <th>state</th>\n",
       "    </tr>\n",
       "  </thead>\n",
       "  <tbody>\n",
       "    <tr>\n",
       "      <th>0</th>\n",
       "      <td>179999.0</td>\n",
       "      <td>9966.0</td>\n",
       "      <td>2017.0</td>\n",
       "      <td>acura</td>\n",
       "      <td>NSX</td>\n",
       "      <td>Base</td>\n",
       "      <td>coupe</td>\n",
       "      <td>Car</td>\n",
       "      <td>4WD</td>\n",
       "      <td>Automatic</td>\n",
       "      <td>hyrid</td>\n",
       "      <td>3.5</td>\n",
       "      <td>V</td>\n",
       "      <td>NB</td>\n",
       "    </tr>\n",
       "    <tr>\n",
       "      <th>1</th>\n",
       "      <td>179995.0</td>\n",
       "      <td>5988.0</td>\n",
       "      <td>2017.0</td>\n",
       "      <td>acura</td>\n",
       "      <td>NSX</td>\n",
       "      <td>Base</td>\n",
       "      <td>coupe</td>\n",
       "      <td>Car</td>\n",
       "      <td>4WD</td>\n",
       "      <td>Automatic</td>\n",
       "      <td>hyrid</td>\n",
       "      <td>3.5</td>\n",
       "      <td>V</td>\n",
       "      <td>QC</td>\n",
       "    </tr>\n",
       "    <tr>\n",
       "      <th>2</th>\n",
       "      <td>168528.0</td>\n",
       "      <td>24242.0</td>\n",
       "      <td>2017.0</td>\n",
       "      <td>acura</td>\n",
       "      <td>NSX</td>\n",
       "      <td>Base</td>\n",
       "      <td>coupe</td>\n",
       "      <td>Car</td>\n",
       "      <td>4WD</td>\n",
       "      <td>Automatic</td>\n",
       "      <td>hyrid</td>\n",
       "      <td>3.5</td>\n",
       "      <td>V</td>\n",
       "      <td>BC</td>\n",
       "    </tr>\n",
       "    <tr>\n",
       "      <th>3</th>\n",
       "      <td>220000.0</td>\n",
       "      <td>6637.0</td>\n",
       "      <td>2020.0</td>\n",
       "      <td>acura</td>\n",
       "      <td>NSX</td>\n",
       "      <td>Base</td>\n",
       "      <td>coupe</td>\n",
       "      <td>Car</td>\n",
       "      <td>4WD</td>\n",
       "      <td>Automatic</td>\n",
       "      <td>hyrid</td>\n",
       "      <td>3.5</td>\n",
       "      <td>V</td>\n",
       "      <td>ON</td>\n",
       "    </tr>\n",
       "    <tr>\n",
       "      <th>4</th>\n",
       "      <td>220000.0</td>\n",
       "      <td>6637.0</td>\n",
       "      <td>2020.0</td>\n",
       "      <td>acura</td>\n",
       "      <td>NSX</td>\n",
       "      <td>Base</td>\n",
       "      <td>coupe</td>\n",
       "      <td>Car</td>\n",
       "      <td>4WD</td>\n",
       "      <td>Automatic</td>\n",
       "      <td>hyrid</td>\n",
       "      <td>3.5</td>\n",
       "      <td>V</td>\n",
       "      <td>ON</td>\n",
       "    </tr>\n",
       "  </tbody>\n",
       "</table>\n",
       "</div>"
      ],
      "text/plain": [
       "      price    miles    year   make model  trim body_type vehicle_type  \\\n",
       "0  179999.0   9966.0  2017.0  acura   NSX  Base     coupe          Car   \n",
       "1  179995.0   5988.0  2017.0  acura   NSX  Base     coupe          Car   \n",
       "2  168528.0  24242.0  2017.0  acura   NSX  Base     coupe          Car   \n",
       "3  220000.0   6637.0  2020.0  acura   NSX  Base     coupe          Car   \n",
       "4  220000.0   6637.0  2020.0  acura   NSX  Base     coupe          Car   \n",
       "\n",
       "  drivetrain transmission fuel_type  engine_size engine_block state  \n",
       "0        4WD    Automatic     hyrid          3.5            V    NB  \n",
       "1        4WD    Automatic     hyrid          3.5            V    QC  \n",
       "2        4WD    Automatic     hyrid          3.5            V    BC  \n",
       "3        4WD    Automatic     hyrid          3.5            V    ON  \n",
       "4        4WD    Automatic     hyrid          3.5            V    ON  "
      ]
     },
     "execution_count": 62,
     "metadata": {},
     "output_type": "execute_result"
    }
   ],
   "source": [
    "df = pd.read_csv('data/used_car_canada_clean.csv')\n",
    "df.head()"
   ]
  },
  {
   "cell_type": "code",
   "execution_count": 63,
   "id": "56c9a351",
   "metadata": {},
   "outputs": [],
   "source": [
    "from sklearn.model_selection import train_test_split\n",
    "\n",
    "X = df.drop(['price'], axis=1)\n",
    "y = df['price']\n",
    "\n",
    "X_train, X_test, y_train, y_test = train_test_split(X, y, stratify=df[['make', 'model']], test_size=0.2, shuffle=True, random_state=42)"
   ]
  },
  {
   "cell_type": "code",
   "execution_count": 57,
   "id": "6c983788",
   "metadata": {},
   "outputs": [],
   "source": [
    "from sklearn.compose import ColumnTransformer\n",
    "from sklearn.pipeline import Pipeline\n",
    "from sklearn.preprocessing import OrdinalEncoder\n",
    "from sklearn.feature_selection import SelectPercentile, mutual_info_regression\n",
    "\n",
    "cat_index = [2,3,4,5,6,7,8,9,11,12]\n",
    "\n",
    "cat_features_transformer = Pipeline(\n",
    "    steps=[\n",
    "        (\"encoder\", OrdinalEncoder()),\n",
    "        (\"selector\", SelectPercentile(mutual_info_regression, percentile=50))#select top50% of features that has correlation with Y\n",
    "    ]\n",
    ")\n",
    "\n",
    "preprocessor = ColumnTransformer(\n",
    "    transformers=[\n",
    "        (\"cat\", cat_features_transformer, cat_index)\n",
    "    ]\n",
    ")\n"
   ]
  },
  {
   "cell_type": "code",
   "execution_count": 66,
   "id": "9b7c4bb7-f9c0-47cd-bd34-b3cc4ef6837c",
   "metadata": {},
   "outputs": [
    {
     "name": "stdout",
     "output_type": "stream",
     "text": [
      "Selected categorical features:\n",
      "Index(['make', 'model', 'trim', 'body_type', 'state'], dtype='object')\n"
     ]
    }
   ],
   "source": [
    "import numpy as np\n",
    "import pandas as pd\n",
    "from sklearn.compose import ColumnTransformer\n",
    "from sklearn.pipeline import Pipeline\n",
    "from sklearn.preprocessing import OrdinalEncoder\n",
    "from sklearn.feature_selection import SelectPercentile, mutual_info_regression\n",
    "from sklearn.datasets import fetch_openml\n",
    "\n",
    "# Specify categorical feature indices\n",
    "cat_index = [2,3,4,5,6,7,8,9,11,12] # Updated for the example dataset\n",
    "\n",
    "# Column names for reference\n",
    "cat_feature_names = X.columns[cat_index]\n",
    "\n",
    "# Create the categorical features transformer pipeline\n",
    "cat_features_transformer = Pipeline(\n",
    "    steps=[\n",
    "        (\"encoder\", OrdinalEncoder()),\n",
    "        (\"selector\", SelectPercentile(mutual_info_regression, percentile=50))\n",
    "    ]\n",
    ")\n",
    "\n",
    "# Create the preprocessor with the column transformer\n",
    "preprocessor = ColumnTransformer(\n",
    "    transformers=[\n",
    "        (\"cat\", cat_features_transformer, cat_index)\n",
    "    ]\n",
    ")\n",
    "\n",
    "# Fit the preprocessor on the data\n",
    "preprocessor.fit(X, y)\n",
    "\n",
    "# Get the support mask for selected categorical features\n",
    "support_mask = preprocessor.named_transformers_[\"cat\"].named_steps[\"selector\"].get_support()\n",
    "\n",
    "# Print the selected categorical feature names\n",
    "selected_cat_features = cat_feature_names[support_mask]\n",
    "print(\"Selected categorical features:\")\n",
    "print(selected_cat_features)\n"
   ]
  },
  {
   "cell_type": "code",
   "execution_count": null,
   "id": "342b2d2e",
   "metadata": {},
   "outputs": [],
   "source": []
  }
 ],
 "metadata": {
  "kernelspec": {
   "display_name": "Python 3 (ipykernel)",
   "language": "python",
   "name": "python3"
  },
  "language_info": {
   "codemirror_mode": {
    "name": "ipython",
    "version": 3
   },
   "file_extension": ".py",
   "mimetype": "text/x-python",
   "name": "python",
   "nbconvert_exporter": "python",
   "pygments_lexer": "ipython3",
   "version": "3.9.12"
  }
 },
 "nbformat": 4,
 "nbformat_minor": 5
}
